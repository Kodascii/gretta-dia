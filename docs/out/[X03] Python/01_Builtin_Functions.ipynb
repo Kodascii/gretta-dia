{
 "cells": [
  {
   "cell_type": "markdown",
   "metadata": {},
   "source": [
    "<link rel=\"stylesheet\" href=\"../../jnb-sheet.css\">\n",
    "\n",
    "# [Built-in Functions](https://docs.python.org/3/library/functions.html)"
   ]
  },
  {
   "cell_type": "markdown",
   "metadata": {},
   "source": [
    "<link rel=\"stylesheet\" href=\"../../jnb-sheet.css\">\n",
    "\n",
    "<f-box>\n",
    "    <f-head>\n",
    "        <a href=\"https://docs.python.org/3/library/functions.html#eval\"><f-name>eval()</f-name></a>\n",
    "        <f-desc><d-c/>Evaluates and executes an expression.</f-desc>\n",
    "    </f-head>\n",
    "</f-box>"
   ]
  },
  {
   "cell_type": "code",
   "execution_count": 1,
   "metadata": {},
   "outputs": [
    {
     "name": "stdout",
     "output_type": "stream",
     "text": [
      "True\n"
     ]
    }
   ],
   "source": [
    "expr = \"1 <= 3\"\n",
    "result = eval(expr)\n",
    "\n",
    "print(result)"
   ]
  },
  {
   "cell_type": "markdown",
   "metadata": {},
   "source": [
    "<link rel=\"stylesheet\" href=\"../../jnb-sheet.css\">\n",
    "\n",
    "<f-box>\n",
    "    <f-head>\n",
    "        <a href=\"https://docs.python.org/3/library/functions.html#exec\"><f-name>exec()</f-name></a>\n",
    "        <f-desc><d-c/>This function supports dynamic execution of Python code.</f-desc>\n",
    "    </f-head>\n",
    "</f-box>"
   ]
  },
  {
   "cell_type": "code",
   "execution_count": 3,
   "metadata": {},
   "outputs": [
    {
     "name": "stdout",
     "output_type": "stream",
     "text": [
      "25\n"
     ]
    }
   ],
   "source": [
    "code = '''\n",
    "a = 5\n",
    "b = a**2\n",
    "print(b)\n",
    "'''\n",
    "exec(code)"
   ]
  },
  {
   "cell_type": "markdown",
   "metadata": {},
   "source": [
    "<link rel=\"stylesheet\" href=\"../../jnb-sheet.css\">\n",
    "\n",
    "<f-box>\n",
    "    <f-head>\n",
    "        <a href=\"https://docs.python.org/3/library/functions.html#filter\"><f-name>filter()</f-name></a>\n",
    "        <f-desc><d-c/>Construct an iterator from an iterable and returns true.</f-desc>\n",
    "    </f-head>\n",
    "</f-box>"
   ]
  },
  {
   "cell_type": "code",
   "execution_count": 1,
   "metadata": {},
   "outputs": [
    {
     "name": "stdout",
     "output_type": "stream",
     "text": [
      "[2, 4, 6]\n"
     ]
    }
   ],
   "source": [
    "def is_even(n):\n",
    "    '''filter method (if number is even)'''\n",
    "    return n % 2 == 0\n",
    "\n",
    "nums = [1, 2, 3, 4, 5, 6]\n",
    "even_list = list(filter(is_even, nums))\n",
    "\n",
    "print(even_list)"
   ]
  },
  {
   "cell_type": "markdown",
   "metadata": {},
   "source": [
    "<link rel=\"stylesheet\" href=\"../../jnb-sheet.css\">\n",
    "\n",
    "<f-box>\n",
    "    <f-head>\n",
    "        <a href=\"https://docs.python.org/3/library/functions.html#zip\"><f-name>zip()</f-name></a>\n",
    "        <f-desc><d-c/>Iterate over several iterables in parallel, producing tuples with an item from each one.</f-desc>\n",
    "    </f-head>\n",
    "</f-box>"
   ]
  },
  {
   "cell_type": "code",
   "execution_count": 2,
   "metadata": {},
   "outputs": [
    {
     "name": "stdout",
     "output_type": "stream",
     "text": [
      "(1, 'apple')\n",
      "(2, 'orange')\n",
      "(3, 'raspberry')\n"
     ]
    }
   ],
   "source": [
    "zipped = zip([1, 2, 3], ['apple', 'orange', 'raspberry', 'banana'])\n",
    "\n",
    "for item in zipped:\n",
    "    print(item)"
   ]
  },
  {
   "cell_type": "code",
   "execution_count": 7,
   "metadata": {},
   "outputs": [
    {
     "name": "stdout",
     "output_type": "stream",
     "text": [
      "collection = [(1, 4), (2, 5), (3, 6)]\n",
      "p = (1, 2, 3)\n",
      "q = (4, 5, 6)\n"
     ]
    }
   ],
   "source": [
    "x = [1, 2, 3]\n",
    "y = [4, 5, 6]\n",
    "\n",
    "collection = list(zip(x, y));\n",
    "print(f\"collection = {collection}\")\n",
    "\n",
    "p, q = zip(*zip(x, y));\n",
    "print(f\"p = {p}\")\n",
    "print(f\"q = {q}\")"
   ]
  }
 ],
 "metadata": {
  "kernelspec": {
   "display_name": "base",
   "language": "python",
   "name": "python3"
  },
  "language_info": {
   "codemirror_mode": {
    "name": "ipython",
    "version": 3
   },
   "file_extension": ".py",
   "mimetype": "text/x-python",
   "name": "python",
   "nbconvert_exporter": "python",
   "pygments_lexer": "ipython3",
   "version": "3.11.5"
  }
 },
 "nbformat": 4,
 "nbformat_minor": 2
}
