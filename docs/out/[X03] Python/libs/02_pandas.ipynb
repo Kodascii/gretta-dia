{
 "cells": [
  {
   "cell_type": "markdown",
   "metadata": {},
   "source": [
    "<link rel=\"stylesheet\" href=\"../stylesheet.css\">\n",
    "\n",
    "# [Pandas](https://pandas.pydata.org/docs/user_guide/10min.html)"
   ]
  },
  {
   "cell_type": "code",
   "execution_count": 2,
   "metadata": {},
   "outputs": [],
   "source": [
    "import pandas as pd\n",
    "import numpy as np\n",
    "\n",
    "max_width = 45\n",
    "\n",
    "def ruler(n: int = max_width) :\n",
    "    return '-' * n\n",
    "\n",
    "def xprint(obj, title = \"\"):\n",
    "    titlen = len(title)\n",
    "    if (title != ''):\n",
    "        print(f\"- {title} {ruler(max_width - titlen - 3)}\")\n",
    "    else: \n",
    "        print(ruler())\n",
    "    print(obj, '\\n')"
   ]
  },
  {
   "cell_type": "markdown",
   "metadata": {},
   "source": [
    "<link rel=\"stylesheet\" href=\"../../stylesheet.css\">\n",
    "\n",
    "## Data Structures\n",
    "\n",
    "<span class=\"subtitle\">Series</span>"
   ]
  },
  {
   "cell_type": "code",
   "execution_count": 4,
   "metadata": {},
   "outputs": [
    {
     "name": "stdout",
     "output_type": "stream",
     "text": [
      "- from_list ---------------------------------\n",
      "A    1\n",
      "B    2\n",
      "C    3\n",
      "D    4\n",
      "E    5\n",
      "Name: from_list, dtype: int64 \n",
      "\n",
      "- from_dict ---------------------------------\n",
      "A    1\n",
      "B    2\n",
      "C    3\n",
      "Name: from_dict, dtype: int64 \n",
      "\n",
      "- from_ndarray ------------------------------\n",
      "0   -0.527385\n",
      "1   -0.423285\n",
      "2    0.088995\n",
      "3    0.587150\n",
      "4    0.479587\n",
      "Name: from_ndarray, dtype: float64 \n",
      "\n",
      "- from_scalar -------------------------------\n",
      "A   -0.25\n",
      "B   -0.25\n",
      "C   -0.25\n",
      "Name: from_scalar, dtype: float64 \n",
      "\n"
     ]
    }
   ],
   "source": [
    "data = [1, 2, 3, 4, 5]\n",
    "indexes = ['A', 'B', 'C', 'D', 'E']\n",
    "\n",
    "from_list = pd.Series(data, index=indexes, name=\"from_list\")\n",
    "from_dict = pd.Series({'A': 1, 'B': 2, 'C': 3}, name=\"from_dict\")\n",
    "from_ndarray = pd.Series(np.random.randn(5), name=\"from_ndarray\")\n",
    "from_scalar = pd.Series(-.25, index=['A', 'B', 'C'], name=\"from_scalar\")\n",
    "\n",
    "xprint(from_list, 'from_list')\n",
    "xprint(from_dict, 'from_dict')\n",
    "xprint(from_ndarray, 'from_ndarray')\n",
    "xprint(from_scalar, 'from_scalar')"
   ]
  },
  {
   "cell_type": "code",
   "execution_count": 5,
   "metadata": {},
   "outputs": [
    {
     "name": "stdout",
     "output_type": "stream",
     "text": [
      "- from_scalar -------------------------------\n",
      "A   -0.25\n",
      "B   -0.25\n",
      "C   -0.25\n",
      "Name: from_scalar, dtype: float64 \n",
      "\n",
      "- from_scalar * 2 ---------------------------\n",
      "A   -0.5\n",
      "B   -0.5\n",
      "C   -0.5\n",
      "Name: from_scalar, dtype: float64 \n",
      "\n",
      "- from_scalar + [1,2,3] ---------------------\n",
      "A    0.75\n",
      "B    1.75\n",
      "C    2.75\n",
      "Name: from_scalar, dtype: float64 \n",
      "\n",
      "- exp(from_scalar) --------------------------\n",
      "A    0.778801\n",
      "B    0.778801\n",
      "C    0.778801\n",
      "Name: from_scalar, dtype: float64 \n",
      "\n"
     ]
    }
   ],
   "source": [
    "xprint(from_scalar, 'from_scalar')\n",
    "xprint(from_scalar * 2, 'from_scalar * 2')\n",
    "xprint(from_scalar + [1, 2, 3], 'from_scalar + [1,2,3]')\n",
    "xprint(np.exp(from_scalar), 'exp(from_scalar)')"
   ]
  },
  {
   "cell_type": "markdown",
   "metadata": {},
   "source": [
    "<link rel=\"stylesheet\" href=\"../../stylesheet.css\">\n",
    "\n",
    "<span class=\"subtitle\">DataFrame</span>"
   ]
  },
  {
   "cell_type": "code",
   "execution_count": 23,
   "metadata": {},
   "outputs": [
    {
     "name": "stdout",
     "output_type": "stream",
     "text": [
      "- dframe ------------------------------------\n",
      "          A      B      C\n",
      "0 -0.500000  Hello   True\n",
      "1  1.236000  World   True\n",
      "2  3.141593      !  False \n",
      "\n",
      "- dframe[1:2] -------------------------------\n",
      "       A      B     C\n",
      "1  1.236  World  True \n",
      "\n",
      "---------------------------------------------\n",
      "          A      B      C\n",
      "1  1.236000  World   True\n",
      "2  3.141593      !  False \n",
      "\n"
     ]
    }
   ],
   "source": [
    "data = {\n",
    "    'A': [-0.5, 1.236, np.pi],\n",
    "    'B': ['Hello', 'World', '!'],\n",
    "    'C': [True, True, False]\n",
    "}\n",
    "dframe = pd.DataFrame(data, index=[0, 1, 2])\n",
    "xprint(dframe, 'dframe')\n",
    "\n",
    "xprint(dframe[1:2], 'dframe[1:2]')\n",
    "xprint(dframe[:][1:3])"
   ]
  }
 ],
 "metadata": {
  "kernelspec": {
   "display_name": "base",
   "language": "python",
   "name": "python3"
  },
  "language_info": {
   "codemirror_mode": {
    "name": "ipython",
    "version": 3
   },
   "file_extension": ".py",
   "mimetype": "text/x-python",
   "name": "python",
   "nbconvert_exporter": "python",
   "pygments_lexer": "ipython3",
   "version": "3.11.5"
  }
 },
 "nbformat": 4,
 "nbformat_minor": 2
}
