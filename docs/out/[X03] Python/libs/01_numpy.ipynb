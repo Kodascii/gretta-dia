{
 "cells": [
  {
   "cell_type": "markdown",
   "metadata": {},
   "source": [
    "<link rel=\"stylesheet\" href=\"../stylesheet.css\">\n",
    "\n",
    "# [NumPy](https://courspython.com/apprendre-numpy.html)\n",
    "\n",
    "> **[Numpy (Numerical Python)](https://www.w3schools.com/python/numpy/default.asp)**: *NumPy is a Python library used for working with arrays. It also has functions for working in domain of linear algebra, fourier transform, and matrices.*\n",
    "\n",
    "<u-b>IMPORT</u-b>"
   ]
  },
  {
   "cell_type": "code",
   "execution_count": 2,
   "metadata": {},
   "outputs": [],
   "source": [
    "import numpy as np"
   ]
  },
  {
   "cell_type": "markdown",
   "metadata": {},
   "source": [
    "## Data Types\n",
    "\n",
    "| Representation | Type               |\n",
    "|----------------|--------------------|\n",
    "| `i`            | *Integer*          |\n",
    "| `b`            | *Boolean*          |\n",
    "| `u`            | *Unsigned Integer* |\n",
    "| `f`            | *Float*            |\n",
    "| `c`            | *Complex*          |\n",
    "| `m`            | *Time-delta*       |\n",
    "| `M`            | *Date-Time*        |\n",
    "| `O`            | *Object*           |\n",
    "| `S`            | *String*           |\n",
    "| `U`            | *Unicode String*   |\n",
    "| `V`            | *Void*             |"
   ]
  },
  {
   "cell_type": "markdown",
   "metadata": {},
   "source": [
    "<link rel=\"stylesheet\" href=\"../../stylesheet.css\">\n",
    "\n",
    "# Arrays\n",
    "\n",
    "<u-b>N-D CREATION</u-b>"
   ]
  },
  {
   "cell_type": "code",
   "execution_count": 28,
   "metadata": {},
   "outputs": [
    {
     "name": "stdout",
     "output_type": "stream",
     "text": [
      "a: 42\n",
      "b: [1, 2, 3, 4, 5]\n",
      "c: [[1, 2, 3], [4, 5, 6]]\n",
      "d: [\n",
      "    [[1, 2, 3], [4, 5, 6]],\n",
      "    [[1, 2, 3], [4, 5, 6]]\n",
      "]\n"
     ]
    }
   ],
   "source": [
    "a = np.array(42)\n",
    "print(f\"a: {a}\")\n",
    "\n",
    "b = np.array([1, 2, 3, 4, 5])\n",
    "print(f\"b: {b.tolist()}\")\n",
    "\n",
    "c = np.array([[1, 2, 3], [4, 5, 6]])\n",
    "print(f\"c: {c.tolist()}\")\n",
    "\n",
    "d = np.array([[[1, 2, 3], [4, 5, 6]], [[1, 2, 3], [4, 5, 6]]])\n",
    "print(f\"d: [\\n    {d[0].tolist()},\\n    {d[1].tolist()}\\n]\")"
   ]
  },
  {
   "cell_type": "markdown",
   "metadata": {},
   "source": [
    "<link rel=\"stylesheet\" href=\"../stylesheet.css\">\n",
    "\n",
    "<u-b>INDEXING</u-b>"
   ]
  },
  {
   "cell_type": "code",
   "execution_count": 3,
   "metadata": {},
   "outputs": [
    {
     "name": "stdout",
     "output_type": "stream",
     "text": [
      "0\n"
     ]
    }
   ],
   "source": [
    "a = np.array([0, 1, 2, 3, 4])\n",
    "print(a[0])"
   ]
  },
  {
   "cell_type": "markdown",
   "metadata": {},
   "source": [
    "<link rel=\"stylesheet\" href=\"../stylesheet.css\">\n",
    "\n",
    "<u-b>SLICING</u-b>"
   ]
  },
  {
   "cell_type": "code",
   "execution_count": 40,
   "metadata": {},
   "outputs": [
    {
     "name": "stdout",
     "output_type": "stream",
     "text": [
      "a[1-5]:    [1 2 3 4]\n",
      "b[1][1-5]: [6 7 8]\n"
     ]
    }
   ],
   "source": [
    "a = np.array([0, 1, 2, 3, 4, 5, 6])\n",
    "print(f\"a[1-5]:    {a[1:5]}\") # [1, 2, 3, 4]\n",
    "\n",
    "b = np.array([[0, 1, 2, 3, 4], [5, 6, 7, 8, 9]])\n",
    "print(f\"b[1][1-5]: {b[1, 1:4]}\") # [6, 7, 8]"
   ]
  },
  {
   "cell_type": "markdown",
   "metadata": {},
   "source": [
    "- Slicing with step"
   ]
  },
  {
   "cell_type": "code",
   "execution_count": 34,
   "metadata": {},
   "outputs": [
    {
     "name": "stdout",
     "output_type": "stream",
     "text": [
      "[1 3]\n"
     ]
    }
   ],
   "source": [
    "arr = np.array([0, 1, 2, 3, 4, 5, 6, 7])\n",
    "print(arr[1:5:2]) # [1, 3]"
   ]
  },
  {
   "cell_type": "markdown",
   "metadata": {},
   "source": [
    "<link rel=\"stylesheet\" href=\"../stylesheet.css\">\n",
    "\n",
    "<u-b>ARRAYS WITH DEFINED DATA TYPE</u-b>"
   ]
  },
  {
   "cell_type": "code",
   "execution_count": 37,
   "metadata": {},
   "outputs": [
    {
     "name": "stdout",
     "output_type": "stream",
     "text": [
      "str_arr: [b'1' b'2' b'3' b'4']\n",
      "int4_arr: [1 2 3 4]\n"
     ]
    }
   ],
   "source": [
    "str_arr = np.array([1, 2, 3, 4], dtype='S')\n",
    "print(f\"str_arr: {str_arr}\")\n",
    "\n",
    "int4_arr = np.array([1, 2, 3, 4], dtype='i4') # For i, u, f, S and U we can define size as well.\n",
    "print(f\"int4_arr: {int4_arr}\")"
   ]
  },
  {
   "cell_type": "markdown",
   "metadata": {},
   "source": [
    "<link rel=\"stylesheet\" href=\"../stylesheet.css\">\n",
    "\n",
    "<u-b>CAST EXISTING ARRAY</u-b>"
   ]
  },
  {
   "cell_type": "code",
   "execution_count": 42,
   "metadata": {},
   "outputs": [
    {
     "name": "stdout",
     "output_type": "stream",
     "text": [
      "float_to_int_arr: [1 2 3]\n",
      "str_to_int_arr: [-1 -2 -5]\n"
     ]
    }
   ],
   "source": [
    "float_arr = np.array([1.1, 2.1, 3.1])\n",
    "str_arr = np.array(['-1', '-2', '-5'])\n",
    "\n",
    "float_to_int_arr = float_arr.astype('i')\n",
    "print(f\"float_to_int_arr: {float_to_int_arr}\") # [1, 2, 3]\n",
    "\n",
    "str_to_int_arr = str_arr.astype('i')\n",
    "print(f\"str_to_int_arr: {str_to_int_arr}\") # [-1, -2, -5]"
   ]
  },
  {
   "cell_type": "markdown",
   "metadata": {},
   "source": [
    "## Functional Programming"
   ]
  },
  {
   "cell_type": "code",
   "execution_count": 46,
   "metadata": {},
   "outputs": [
    {
     "name": "stdout",
     "output_type": "stream",
     "text": [
      "[-1.2246468e-16  1.0000000e+00  0.0000000e+00]\n"
     ]
    }
   ],
   "source": [
    "x = [-np.pi, np.pi/2, 0]\n",
    "y = np.sin(x)\n",
    "\n",
    "print(y)"
   ]
  }
 ],
 "metadata": {
  "kernelspec": {
   "display_name": "base",
   "language": "python",
   "name": "python3"
  },
  "language_info": {
   "codemirror_mode": {
    "name": "ipython",
    "version": 3
   },
   "file_extension": ".py",
   "mimetype": "text/x-python",
   "name": "python",
   "nbconvert_exporter": "python",
   "pygments_lexer": "ipython3",
   "version": "3.11.5"
  }
 },
 "nbformat": 4,
 "nbformat_minor": 2
}
