{
 "cells": [
  {
   "cell_type": "markdown",
   "metadata": {},
   "source": [
    "<link rel=\"stylesheet\" href=\"../../jnb-sheet.css\">\n",
    "\n",
    "# [Control Flow](https://docs.python.org/3/tutorial/controlflow.html)\n",
    "\n",
    "### 01. `else` Clauses on Loops\n",
    "\n",
    "- In a `for` loop, the `else` clause is executed after the loop reaches its final iteration.\n",
    "- In a `while` loop, it’s executed after the loop’s condition becomes `false`.\n",
    "- In either kind of loop, the `else` clause is not executed if the loop was terminated by a `break`."
   ]
  },
  {
   "cell_type": "code",
   "execution_count": 4,
   "metadata": {},
   "outputs": [
    {
     "name": "stdout",
     "output_type": "stream",
     "text": [
      "[2, 3, 5, 7, 11, 13, 17, 19]\n"
     ]
    }
   ],
   "source": [
    "def search_primes(start:int, end:int):\n",
    "    '''\n",
    "    Calculate prime numbers from start up to the end\n",
    "    '''\n",
    "\n",
    "    primes_list = []\n",
    "    for n in range(start, end):\n",
    "        for x in range(2, n):\n",
    "            if n % x == 0:\n",
    "                break\n",
    "        else:\n",
    "            # loop fell through without finding a factor\n",
    "            primes_list.append(n)\n",
    "\n",
    "    return primes_list\n",
    "\n",
    "print(search_primes(2, 20))"
   ]
  }
 ],
 "metadata": {
  "kernelspec": {
   "display_name": "base",
   "language": "python",
   "name": "python3"
  },
  "language_info": {
   "codemirror_mode": {
    "name": "ipython",
    "version": 3
   },
   "file_extension": ".py",
   "mimetype": "text/x-python",
   "name": "python",
   "nbconvert_exporter": "python",
   "pygments_lexer": "ipython3",
   "version": "3.11.5"
  }
 },
 "nbformat": 4,
 "nbformat_minor": 2
}
