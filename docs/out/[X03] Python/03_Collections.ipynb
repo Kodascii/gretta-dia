{
 "cells": [
  {
   "cell_type": "markdown",
   "metadata": {},
   "source": [
    "<link rel=\"stylesheet\" href=\"../../jnb-sheet.css\">\n",
    "\n",
    "# Collections"
   ]
  },
  {
   "cell_type": "markdown",
   "metadata": {},
   "source": [
    "<link rel=\"stylesheet\" href=\"../../jnb-sheet.css\">\n",
    "\n",
    "## I. Lists\n",
    "\n",
    "> **Ordered** : *Yes*, **Mutable** : *Yes*, **Indexed** : *Yes*, **Duplicates** : *Yes*."
   ]
  },
  {
   "cell_type": "markdown",
   "metadata": {},
   "source": [
    "<link rel=\"stylesheet\" href=\"../../jnb-sheet.css\">\n",
    "\n",
    "### 01. Constructors"
   ]
  },
  {
   "cell_type": "code",
   "execution_count": null,
   "metadata": {},
   "outputs": [],
   "source": [
    "list01 = [1, 2, 3, 4, 5]                # literal syntax\n",
    "list02 = list(\"Hello World\")            # list() constructor\n",
    "list03 = [x**2 for x in range(1, 6)]    # list comprehension\n",
    "list04 = list(range(1, 30, 3))          # range() function\n",
    "list05 = [0] * 5                        # repetition operator\n",
    "\n",
    "lists = [list01, list02, list03, list04, list05]\n",
    "for l in lists: print(l)"
   ]
  },
  {
   "cell_type": "markdown",
   "metadata": {},
   "source": [
    "<link rel=\"stylesheet\" href=\"../../jnb-sheet.css\">\n",
    "\n",
    "### 02. List Comprehension\n",
    "\n",
    "```py\n",
    "[syntax]: newlist = [expression for item in iterable if condition == True]\n",
    "```"
   ]
  },
  {
   "cell_type": "code",
   "execution_count": 2,
   "metadata": {},
   "outputs": [
    {
     "name": "stdout",
     "output_type": "stream",
     "text": [
      "[0, 3, 6, 9, 12, 15, 18, 21, 24, 27, 30, 33, 36, 39, 42, 45, 48, 51, 54, 57, 60, 63, 66, 69, 72, 75, 78, 81, 84, 87, 90, 93, 96, 99]\n",
      "[1.0, 0.30901699437494745, -0.8090169943749473, -0.8090169943749476, 0.30901699437494723]\n"
     ]
    }
   ],
   "source": [
    "import numpy as np\n",
    "lst = [x for x in range(0, 100) if x % 3 == 0]\n",
    "print(lst)\n",
    "\n",
    "two_pi = 2 * np.pi\n",
    "nplst = [np.cos(y) for y in np.arange(0, two_pi, two_pi/5)]\n",
    "print(nplst)"
   ]
  },
  {
   "cell_type": "code",
   "execution_count": 1,
   "metadata": {},
   "outputs": [
    {
     "name": "stdout",
     "output_type": "stream",
     "text": [
      "['Fevrier', 'Mai', 'Aout', 'Novembre']\n"
     ]
    }
   ],
   "source": [
    "hiver = [\"Janvier\", \"Fevrier\", \"Mars\"]\n",
    "printemps = [\"Avril\", \"Mai\", \"Juin\"]\n",
    "ete = [\"Juillet\", \"Aout\", \"Septembre\"]\n",
    "automne = [\"Octobre\", \"Novembre\", \"Decembre\"]\n",
    "\n",
    "saison = [hiver, printemps, ete, automne]\n",
    "print([row[1] for row in saison])\n"
   ]
  },
  {
   "cell_type": "markdown",
   "metadata": {},
   "source": [
    "<link rel=\"stylesheet\" href=\"../../jnb-sheet.css\">\n",
    "\n",
    "### 03. Methods"
   ]
  },
  {
   "cell_type": "markdown",
   "metadata": {},
   "source": [
    "<link rel=\"stylesheet\" href=\"../../jnb-sheet.css\">\n",
    "\n",
    "<f-box>\n",
    "    <f-head>\n",
    "        <a href=\"#ref\"><f-name>.count()</f-name></a>\n",
    "        <f-desc><d-c/>Return the number of times <code>x</code> appears in the list.</f-desc>\n",
    "    </f-head>\n",
    "    <f-body>\n",
    "        <ul t=\"param\">\n",
    "            <li><f-param>x</f-param>The argument to count the occurrences on.</li>\n",
    "        </ul>\n",
    "    </f-body>\n",
    "</f-box>"
   ]
  },
  {
   "cell_type": "code",
   "execution_count": 3,
   "metadata": {},
   "outputs": [
    {
     "name": "stdout",
     "output_type": "stream",
     "text": [
      "1 apprears 3 times in nums\n",
      "2 apprears 2 times in nums\n"
     ]
    }
   ],
   "source": [
    "nums = [1, 1, 1, 2, 2, 3]\n",
    "\n",
    "print(f'1 apprears {nums.count(1)} times in nums')\n",
    "print(f'2 apprears {nums.count(2)} times in nums')"
   ]
  },
  {
   "cell_type": "markdown",
   "metadata": {},
   "source": [
    "<link rel=\"stylesheet\" href=\"../../jnb-sheet.css\">\n",
    "\n",
    "## II. Tuples\n",
    "\n",
    "> **Ordered** : *Yes*, **Mutable** : *No*, **Indexed** : *Yes*, **Duplicates** : *Yes*."
   ]
  },
  {
   "cell_type": "markdown",
   "metadata": {},
   "source": [
    "<link rel=\"stylesheet\" href=\"../../jnb-sheet.css\">\n",
    "\n",
    "### 01. Constructors"
   ]
  },
  {
   "cell_type": "code",
   "execution_count": null,
   "metadata": {},
   "outputs": [],
   "source": [
    "tuple01 = (1, 2, 3, 4, 5)       # literal syntax\n",
    "tuple02 = 1, 2, 3, 4, 5         # tuple packing (parentheses are optionam)\n",
    "tuple03 = tuple(\"Hello\")        # tuple constructor\n",
    "a, b, c = 4, 5, 6               # tuple unpacking\n",
    "tuple04 = (0,) * 5              # repetition operator\n",
    "\n",
    "keys = ('a', 'b', 'c'); values = (1, 2, 3)\n",
    "tuple05 = tuple(zip(keys, values))\n",
    "\n",
    "tuples = [tuple01, tuple02, tuple03, tuple04, tuple05]\n",
    "for t in tuples: print(t)"
   ]
  },
  {
   "cell_type": "markdown",
   "metadata": {},
   "source": [
    "<link rel=\"stylesheet\" href=\"../../jnb-sheet.css\">\n",
    "\n",
    "## III. Dictionaries\n",
    "\n",
    "> **Ordered** : *No*, **Mutable** : *Yes*, **Indexed** : *Yes*, **Duplicates** : *Unique keys*."
   ]
  },
  {
   "cell_type": "markdown",
   "metadata": {},
   "source": [
    "<link rel=\"stylesheet\" href=\"../../jnb-sheet.css\">\n",
    "\n",
    "### 01. Contructors"
   ]
  },
  {
   "cell_type": "code",
   "execution_count": null,
   "metadata": {},
   "outputs": [],
   "source": [
    "dict01 = {'key1': 'value1', 'key2': 'value2', 'key3': 'value3'} # literal syntax\n",
    "dict02 = dict([('a', 1), ('b', 2), ('c', 3)])                   # dict constructor\n",
    "dict03 = {x: x**2 for x in range(1, 6)}                         # dictionary comprehension\n",
    "\n",
    "keys = ['a', 'b', 'c']; values = [1, 2, 3]\n",
    "dict04 = dict(zip(keys, values))                                # zip() function\n",
    "\n",
    "dicts = [dict01, dict02, dict03, dict04]\n",
    "for d in dicts: print(d)"
   ]
  },
  {
   "cell_type": "markdown",
   "metadata": {},
   "source": [
    "<link rel=\"stylesheet\" href=\"../../jnb-sheet.css\">\n",
    "\n",
    "### 02. Operations"
   ]
  },
  {
   "cell_type": "code",
   "execution_count": null,
   "metadata": {},
   "outputs": [],
   "source": [
    "my_dict = {'name': 'John', 'age': 30, 'city': 'New York'}\n",
    "\n",
    "name = my_dict['name']             # accessing values by key\n",
    "my_dict['occupation'] = 'Engineer' # adding or updating key-value pairs:"
   ]
  },
  {
   "cell_type": "markdown",
   "metadata": {},
   "source": [
    "<link rel=\"stylesheet\" href=\"../../jnb-sheet.css\">\n",
    "\n",
    "### 03. Methods"
   ]
  },
  {
   "cell_type": "markdown",
   "metadata": {},
   "source": [
    "<link rel=\"stylesheet\" href=\"../../jnb-sheet.css\">\n",
    "\n",
    "<f-box>\n",
    "    <f-head>\n",
    "        <a href=\"#ref\"><f-name>.keys()</f-name></a>\n",
    "        <f-desc><d-c/>Returns a view of dictionary keys.</f-desc>\n",
    "    </f-head>\n",
    "</f-box>"
   ]
  },
  {
   "cell_type": "code",
   "execution_count": null,
   "metadata": {},
   "outputs": [],
   "source": [
    "for k in my_dict.keys():\n",
    "    print(f'{{key: {k}, value: {my_dict[k]}}}')"
   ]
  },
  {
   "cell_type": "markdown",
   "metadata": {},
   "source": [
    "<link rel=\"stylesheet\" href=\"../../jnb-sheet.css\">\n",
    "\n",
    "<f-box>\n",
    "    <f-head>\n",
    "        <a href=\"#ref\"><f-name>.values()</f-name></a>\n",
    "        <f-desc><d-c/>Returns a view of dictionary values.</f-desc>\n",
    "    </f-head>\n",
    "</f-box>"
   ]
  },
  {
   "cell_type": "code",
   "execution_count": null,
   "metadata": {},
   "outputs": [],
   "source": [
    "print(my_dict.values())"
   ]
  },
  {
   "cell_type": "markdown",
   "metadata": {},
   "source": [
    "<link rel=\"stylesheet\" href=\"../../jnb-sheet.css\">\n",
    "\n",
    "<f-box>\n",
    "    <f-head>\n",
    "        <a href=\"#ref\"><f-name>.items()</f-name></a>\n",
    "        <f-desc><d-c/>Returns a view of dictionary key-value pairs as tuples.</f-desc>\n",
    "    </f-head>\n",
    "</f-box>"
   ]
  },
  {
   "cell_type": "code",
   "execution_count": null,
   "metadata": {},
   "outputs": [],
   "source": [
    "print(my_dict.items())"
   ]
  },
  {
   "cell_type": "markdown",
   "metadata": {},
   "source": [
    "<link rel=\"stylesheet\" href=\"../../jnb-sheet.css\">\n",
    "\n",
    "<f-box>\n",
    "    <f-head>\n",
    "        <a href=\"#ref\"><f-name>.get()</f-name></a>\n",
    "        <f-desc><d-c/>Returns the value of the specified key; if the key is not found, it returns <code>None</code>.</f-desc>\n",
    "    </f-head>\n",
    "</f-box>"
   ]
  },
  {
   "cell_type": "code",
   "execution_count": null,
   "metadata": {},
   "outputs": [],
   "source": [
    "print(my_dict.get((1, 1)))"
   ]
  },
  {
   "cell_type": "markdown",
   "metadata": {},
   "source": [
    "<link rel=\"stylesheet\" href=\"../../jnb-sheet.css\">\n",
    "\n",
    "<f-box>\n",
    "    <f-head>\n",
    "        <a href=\"#ref\"><f-name>.update()</f-name></a>\n",
    "        <f-desc><d-c/>Updates the dictionary with key-value pairs from another iterable or dictionary.</f-desc>\n",
    "    </f-head>\n",
    "</f-box>"
   ]
  },
  {
   "cell_type": "code",
   "execution_count": null,
   "metadata": {},
   "outputs": [],
   "source": [
    "my_dict.update(name = \"Mun\")\n",
    "print(my_dict)"
   ]
  },
  {
   "cell_type": "markdown",
   "metadata": {},
   "source": [
    "<link rel=\"stylesheet\" href=\"../../jnb-sheet.css\">\n",
    "\n",
    "<f-box>\n",
    "    <f-head>\n",
    "        <a href=\"#ref\"><f-name>.copy()</f-name></a>\n",
    "        <f-desc><d-c/>Returns a <a href=\"https://docs.python.org/3/library/copy.html\">shallow copy</a> of the dictionary.</f-desc>\n",
    "    </f-head>\n",
    "</f-box>"
   ]
  },
  {
   "cell_type": "code",
   "execution_count": null,
   "metadata": {},
   "outputs": [],
   "source": [
    "dic_copy = my_dict.copy()\n",
    "dic_copy[\"name\"] = \"Thibaut\"\n",
    "\n",
    "print(f'dic:{my_dict}')\n",
    "print(f'dic_copy:{dic_copy}')"
   ]
  },
  {
   "cell_type": "markdown",
   "metadata": {},
   "source": [
    "<link rel=\"stylesheet\" href=\"../../jnb-sheet.css\">\n",
    "\n",
    "## IV. Sets\n",
    "\n",
    "> **Ordered** : *No*, **Mutable** : *Yes*, **Indexed** : *No*, **Duplicates** : *No*."
   ]
  },
  {
   "cell_type": "markdown",
   "metadata": {},
   "source": [
    "<link rel=\"stylesheet\" href=\"../../jnb-sheet.css\">\n",
    "\n",
    "### 01. Contructors"
   ]
  },
  {
   "cell_type": "code",
   "execution_count": null,
   "metadata": {},
   "outputs": [],
   "source": [
    "set01 = {True, False, 0, 1, 2, 3}\n",
    "set02 = set([0, 1, 2, 3, True, False])\n",
    "set03 = {x**3 for x in range(0, 10)}\n",
    "\n",
    "sets = [set01, set02, set03]\n",
    "for s in sets: print(s)"
   ]
  },
  {
   "cell_type": "markdown",
   "metadata": {},
   "source": [
    "<link rel=\"stylesheet\" href=\"../../jnb-sheet.css\">\n",
    "\n",
    "### 02. Operations"
   ]
  },
  {
   "cell_type": "code",
   "execution_count": 1,
   "metadata": {},
   "outputs": [
    {
     "name": "stdout",
     "output_type": "stream",
     "text": [
      "{1, 2, 3, 4, 5}\n",
      "{3}\n",
      "{1, 2}\n",
      "{1, 2, 4, 5}\n"
     ]
    }
   ],
   "source": [
    "set1 = {1, 2, 3}\n",
    "set2 = {3, 4, 5}\n",
    "\n",
    "set_union         = set1 | set2\n",
    "set_intersection  = set1 & set2\n",
    "set_difference    = set1 - set2\n",
    "set_symetric_diff = set1 ^ set2\n",
    "\n",
    "set_ops = [set_union, set_intersection, set_difference, set_symetric_diff]\n",
    "for s in set_ops: print(s)"
   ]
  }
 ],
 "metadata": {
  "kernelspec": {
   "display_name": "base",
   "language": "python",
   "name": "python3"
  },
  "language_info": {
   "codemirror_mode": {
    "name": "ipython",
    "version": 3
   },
   "file_extension": ".py",
   "mimetype": "text/x-python",
   "name": "python",
   "nbconvert_exporter": "python",
   "pygments_lexer": "ipython3",
   "version": "3.11.5"
  }
 },
 "nbformat": 4,
 "nbformat_minor": 2
}
