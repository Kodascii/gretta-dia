{
 "cells": [
  {
   "cell_type": "markdown",
   "metadata": {},
   "source": [
    "<link rel=\"stylesheet\" href=\"../../jnb-sheet.css\">\n",
    "\n",
    "# [Modules](https://docs.python.org/fr/3/py-modindex.html)"
   ]
  },
  {
   "cell_type": "markdown",
   "metadata": {},
   "source": [
    "<link rel=\"stylesheet\" href=\"../../jnb-sheet.css\">\n",
    "\n",
    "## PEPs\n",
    "\n",
    "- [PEP 3147 – PYC Repository Directories](https://peps.python.org/pep-3147/)"
   ]
  },
  {
   "cell_type": "markdown",
   "metadata": {},
   "source": [
    "<link rel=\"stylesheet\" href=\"../../jnb-sheet.css\">\n",
    "\n",
    "## Summary\n",
    "\n",
    "- [math](https://docs.python.org/fr/3/library/math.html#module-math) : *basic mathematics functions and constants.*\n",
    "- [numpy](https://www.w3schools.com/python/numpy/default.asp) : *bibrary used for working with arrays. It also has functions for working in domain of linear algebra, fourier transform, and matrices.*\n",
    "- [matplotlib](https://matplotlib.org/stable/users/index.html) : *matplotlib is a comprehensive library for creating static, animated, and interactive visualizations.*\n",
    "- [sys](https://docs.python.org/fr/3/library/sys.html#module-sys) : *interaction with the Python interpreter, passage of arguments.*\n",
    "- [os](https://docs.python.org/fr/3/library/os.html#module-os) : *dialogue with the operating system.*\n",
    "- [random](https://docs.python.org/fr/3/library/random.html#module-random): *generation of random numbers.*\n",
    "- [time](https://docs.python.org/fr/3/library/time.html#module-time) : *access to computer time and functions managing time..*\n",
    "- [urllib](https://docs.python.org/fr/3/library/urllib.html#module-urllib) : *package that collects several modules for working with URLs.*\n",
    "- [re](https://docs.python.org/3/library/re.html#module-re) : *provides regular expression matching operations similar to those found in Perl..*\n",
    "- [pandas](https://pandas.pydata.org/docs/user_guide/index.html#user-guide) : *easy-to-use data structures and data analysis tools for the Python programming language.*"
   ]
  },
  {
   "cell_type": "markdown",
   "metadata": {},
   "source": [
    "<link rel=\"stylesheet\" href=\"../../jnb-sheet.css\">\n",
    "\n",
    "### 01. Random"
   ]
  },
  {
   "cell_type": "code",
   "execution_count": 30,
   "metadata": {},
   "outputs": [
    {
     "name": "stdout",
     "output_type": "stream",
     "text": [
      "84\n"
     ]
    }
   ],
   "source": [
    "# RANDOM INTEGER FROM AN INTERVAL\n",
    "import random\n",
    "\n",
    "rand_int = random.randint(0, 100)\n",
    "print(rand_int)"
   ]
  },
  {
   "cell_type": "code",
   "execution_count": 3,
   "metadata": {},
   "outputs": [
    {
     "name": "stdout",
     "output_type": "stream",
     "text": [
      "1\n"
     ]
    }
   ],
   "source": [
    "# RANDOM CHOICE FROM LIST\n",
    "import random\n",
    "\n",
    "x = [1, 'a', {'name': \"Knuth\"}]\n",
    "\n",
    "rand_from_list = random.choice(x)\n",
    "print(rand_from_list)"
   ]
  },
  {
   "cell_type": "code",
   "execution_count": 59,
   "metadata": {},
   "outputs": [
    {
     "name": "stdout",
     "output_type": "stream",
     "text": [
      "[{'name': 'Bart'}, 1, 'a']\n"
     ]
    }
   ],
   "source": [
    "# RANDOM LIST SHUFFLE\n",
    "import random\n",
    "\n",
    "x = [1, 'a', {'name': \"Bart\"}]\n",
    "random.shuffle(x)\n",
    "\n",
    "print(x)"
   ]
  },
  {
   "cell_type": "markdown",
   "metadata": {},
   "source": [
    "<link rel=\"stylesheet\" href=\"../../jnb-sheet.css\">\n",
    "\n",
    "### 02. Pandas"
   ]
  },
  {
   "cell_type": "code",
   "execution_count": 40,
   "metadata": {},
   "outputs": [],
   "source": [
    "import pandas as pd\n",
    "import numpy as np\n",
    "\n",
    "max_width = 45\n",
    "\n",
    "def ruler(n: int = max_width) :\n",
    "    return '-' * n\n",
    "\n",
    "def xprint(obj, title = \"\"):\n",
    "    titlen = len(title)\n",
    "    if (title != ''):\n",
    "        print(f\"- {title} {ruler(max_width - titlen - 3)}\")\n",
    "    else: \n",
    "        print(ruler())\n",
    "    print(obj, '\\n')"
   ]
  },
  {
   "cell_type": "code",
   "execution_count": 41,
   "metadata": {},
   "outputs": [
    {
     "name": "stdout",
     "output_type": "stream",
     "text": [
      "- df ----------------------------------------\n",
      "     A          B    C  D      E    F\n",
      "0  1.0 2013-01-02  1.0  3   test  foo\n",
      "1  1.0 2013-01-02  1.0  3  train  foo\n",
      "2  1.0 2013-01-02  1.0  3   test  foo\n",
      "3  1.0 2013-01-02  1.0  3  train  foo \n",
      "\n",
      "- df[:2] ------------------------------------\n",
      "     A          B    C  D      E    F\n",
      "0  1.0 2013-01-02  1.0  3   test  foo\n",
      "1  1.0 2013-01-02  1.0  3  train  foo \n",
      "\n"
     ]
    }
   ],
   "source": [
    "df = pd.DataFrame(\n",
    "    {\n",
    "        \"A\": 1.0,\n",
    "        \"B\": pd.Timestamp(\"20130102\"),\n",
    "        \"C\": pd.Series(1, index=list(range(4)), dtype=\"float32\"),\n",
    "        \"D\": np.array([3] * 4, dtype=\"int32\"),\n",
    "        \"E\": pd.Categorical([\"test\", \"train\", \"test\", \"train\"]),\n",
    "        \"F\": \"foo\",\n",
    "    }\n",
    ")\n",
    "\n",
    "xprint(df, 'df')\n",
    "#xprint(df.head(2), \"df.head(2)\")\n",
    "#xprint(df.tail(3), \"df.tail(3)\")\n",
    "#xprint(df.sort_index(axis=1, ascending=False), \"df.sort_index()\")\n",
    "#xprint(df['E'], \"df['E']\")\n",
    "xprint(df[:2], \"df[:2]\")\n"
   ]
  }
 ],
 "metadata": {
  "kernelspec": {
   "display_name": "base",
   "language": "python",
   "name": "python3"
  },
  "language_info": {
   "codemirror_mode": {
    "name": "ipython",
    "version": 3
   },
   "file_extension": ".py",
   "mimetype": "text/x-python",
   "name": "python",
   "nbconvert_exporter": "python",
   "pygments_lexer": "ipython3",
   "version": "3.11.5"
  }
 },
 "nbformat": 4,
 "nbformat_minor": 2
}
