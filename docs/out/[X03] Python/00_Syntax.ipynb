{
 "cells": [
  {
   "cell_type": "markdown",
   "metadata": {},
   "source": [
    "<link rel=\"stylesheet\" href=\"../../jnb-sheet.css\">\n",
    "\n",
    "# Syntax"
   ]
  },
  {
   "cell_type": "markdown",
   "metadata": {},
   "source": [
    "<link rel=\"stylesheet\" href=\"../../jnb-sheet.css\">\n",
    "\n",
    "### 01. Ellipsis\n",
    "> In Python, the ellipsis (`...`) is a literal expression primarily used as a placeholder or to indicate that a code snippet is incomplete. It doesn't have a specific functionality on its own, but it can be used in various contexts to convey different meanings. Here are some common use cases:"
   ]
  },
  {
   "cell_type": "code",
   "execution_count": null,
   "metadata": {},
   "outputs": [],
   "source": [
    "# Placeholder for Incomplete Code\n",
    "def my_function():\n",
    "    ..."
   ]
  },
  {
   "cell_type": "code",
   "execution_count": 4,
   "metadata": {},
   "outputs": [
    {
     "name": "stdout",
     "output_type": "stream",
     "text": [
      "arr =\n",
      "[[0.72264708 0.33146863 0.47396493]\n",
      " [0.83183431 0.04023928 0.76820267]]\n",
      "\n",
      "result = [0.47396493 0.76820267]\n"
     ]
    }
   ],
   "source": [
    "# NumPy\n",
    "import numpy as np\n",
    "\n",
    "arr = np.random.rand(2, 3)  # generate random 2x3 matrix\n",
    "result = arr[..., 2]        # store the column 2 of arr in result\n",
    "\n",
    "print(f\"arr =\\n{arr}\\n\")\n",
    "print(f\"result = {result}\")"
   ]
  }
 ],
 "metadata": {
  "kernelspec": {
   "display_name": "base",
   "language": "python",
   "name": "python3"
  },
  "language_info": {
   "codemirror_mode": {
    "name": "ipython",
    "version": 3
   },
   "file_extension": ".py",
   "mimetype": "text/x-python",
   "name": "python",
   "nbconvert_exporter": "python",
   "pygments_lexer": "ipython3",
   "version": "3.11.5"
  }
 },
 "nbformat": 4,
 "nbformat_minor": 2
}
