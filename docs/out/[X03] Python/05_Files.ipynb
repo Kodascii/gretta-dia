{
 "cells": [
  {
   "cell_type": "markdown",
   "metadata": {},
   "source": [
    "<link rel=\"stylesheet\" href=\"../../jnb-sheet.css\">\n",
    "\n",
    "# Files\n",
    "\n",
    "## [IO](https://docs.python.org/3/tutorial/inputoutput.html) (Input/Output)"
   ]
  },
  {
   "cell_type": "markdown",
   "metadata": {},
   "source": [
    "<link rel=\"stylesheet\" href=\"../../jnb-sheet.css\">\n",
    "\n",
    "<f-box>\n",
    "    <f-head>\n",
    "        <a href=\"https://docs.python.org/3/library/functions.html#open\"><f-name>open()</f-name></a>\n",
    "        <f-desc><d-c/>Open a file and returns a file object.</f-desc>\n",
    "    </f-head>\n",
    "    <f-body>\n",
    "    <ul t=\"param\">\n",
    "        <li><f-param>file</f-param>The name of the file or a path to the file.</li>\n",
    "        <li><f-param>mode</f-param><u>(Optional)</u> The mode in which the file is opened; <code>default = 'rt'</code>.</li>\n",
    "        <ul t=\"arg\">\n",
    "            <li><f-arg t=\"str\">r</f-arg><d-c/>(read); error if the file does not exist.</li>\n",
    "            <li><f-arg t=\"str\">w</f-arg><d-c/>(write); creates the file if it does not exist; will overwrite any existing content.</li>\n",
    "            <li><f-arg t=\"str\">a</f-arg><d-c/>(append); creates the file if it does not exist.</li>\n",
    "            <li><f-arg t=\"str\">x</f-arg><d-c/>(create); error if the file exists.</li>\n",
    "            <li><f-arg t=\"str\">t</f-arg><d-c/>(text)</li>\n",
    "            <li><f-arg t=\"str\">b</f-arg><d-c/>(binary)</li>\n",
    "        </ul>\n",
    "    </ul>\n",
    "    </f-body>\n",
    "</f-box>"
   ]
  },
  {
   "cell_type": "code",
   "execution_count": 1,
   "metadata": {},
   "outputs": [
    {
     "name": "stdout",
     "output_type": "stream",
     "text": [
      "Lorem ipsum dolor sit amet, consectetur adipiscing elit.\n",
      "Sed do eiusmod tempor incididunt ut labore et dolore magna aliqua.\n",
      "Ut enim ad minim veniam, quis nostrud exercitation ullamco laboris \n",
      "nisi ut aliquip ex ea commodo consequat.\n"
     ]
    }
   ],
   "source": [
    "file_path = '../../temp/lorem.txt'              # Path to lorem.txt\n",
    "file_in = open(file_path, 'rt')                 # File object created with the function open()\n",
    "builder = []                                    # List that is the host for lorem.txt data\n",
    "\n",
    "for buffer in file_in:\n",
    "    builder.append(buffer)\n",
    "\n",
    "file_in.close()\n",
    "print(''.join(builder))"
   ]
  },
  {
   "cell_type": "markdown",
   "metadata": {},
   "source": [
    "<link rel=\"stylesheet\" href=\"../../jnb-sheet.css\">\n",
    "\n",
    "<f-box>\n",
    "    <f-head>\n",
    "        <a href=\"#href\"><f-name>.read()</f-name></a>\n",
    "        <f-desc><d-c/>Method of file objects that is used to read a specified number of bytes from a file.</f-desc>\n",
    "    </f-head>\n",
    "    <f-body>\n",
    "    <ul t=\"param\">\n",
    "        <li><f-param>size</f-param><u>(Optional)</u> Number of bytes to read from the file. If <code>size</code> is negative or omitted, the entire content of the file is read.</li>\n",
    "        <ul t=\"arg\">\n",
    "    </ul>\n",
    "    </f-body>\n",
    "</f-box>"
   ]
  },
  {
   "cell_type": "code",
   "execution_count": null,
   "metadata": {},
   "outputs": [],
   "source": [
    "temp = '../../temp/'\n",
    "file_in = open(temp + 'lorem.txt', 'rt')\n",
    "builder = []\n",
    "\n",
    "while (line := file_in.read(50)) != '':\n",
    "    builder.append(line)\n",
    "\n",
    "file_in.close()\n",
    "print(''.join(builder))"
   ]
  },
  {
   "cell_type": "markdown",
   "metadata": {},
   "source": [
    "<link rel=\"stylesheet\" href=\"../../jnb-sheet.css\">\n",
    "\n",
    "<f-box>\n",
    "    <f-head>\n",
    "        <a href=\"#ref\"><f-name>.write()</f-name></a>\n",
    "        <f-desc><d-c/>Write the string to the stream and return the number of characters written.</f-desc>\n",
    "    </f-head>\n",
    "    <f-body>\n",
    "    <ul t=\"param\">\n",
    "        <li><f-param>str</f-param>The string to be written.</li>\n",
    "        <ul t=\"arg\">\n",
    "    </ul>\n",
    "    </f-body>\n",
    "</f-box>"
   ]
  },
  {
   "cell_type": "code",
   "execution_count": null,
   "metadata": {},
   "outputs": [],
   "source": [
    "temp = '../../temp/'\n",
    "file_out = open(temp + 'data001', 'a')\n",
    "file_out.write('Some text...\\n')\n",
    "file_out.close()"
   ]
  },
  {
   "cell_type": "markdown",
   "metadata": {},
   "source": [
    "<link rel=\"stylesheet\" href=\"../../jnb-sheet.css\">\n",
    "\n",
    "<f-box>\n",
    "    <f-head>\n",
    "        <a href=\"#ref\"><f-name>seek()</f-name></a>\n",
    "        <f-desc><d-c/>Changes the file object’s position. The position is computed from adding offset to a reference point.</f-desc>\n",
    "    </f-head>\n",
    "    <f-body>\n",
    "    <ul t=\"param\">\n",
    "        <li><f-param>offset</f-param>Offset to a reference point.</li>\n",
    "        <li><f-param>whence</f-param><u>(Optional)</u> Reference point.</li>\n",
    "        <ul t=\"arg\">\n",
    "            <li><f-arg t=\"int\">0</f-arg><d-c/>(default) uses the beginning of the file.</li>\n",
    "            <li><f-arg t=\"int\">1</f-arg><d-c/>uses the current file position.</li>\n",
    "            <li><f-arg t=\"int\">2</f-arg><d-c/>uses the end of the file.</li>\n",
    "        </ul>\n",
    "    </ul>\n",
    "    </f-body>\n",
    "</f-box>"
   ]
  },
  {
   "cell_type": "code",
   "execution_count": null,
   "metadata": {},
   "outputs": [],
   "source": [
    "data_path = \"../../temp/data06_001.dat\"\n",
    "builder = []\n",
    "\n",
    "with open(data_path, 'rb+') as f:\n",
    "    f.seek(-3, 2)\n",
    "    builder.append(f.read(3).decode('utf-8'))\n",
    "\n",
    "print(''.join(builder))"
   ]
  }
 ],
 "metadata": {
  "kernelspec": {
   "display_name": "base",
   "language": "python",
   "name": "python3"
  },
  "language_info": {
   "codemirror_mode": {
    "name": "ipython",
    "version": 3
   },
   "file_extension": ".py",
   "mimetype": "text/x-python",
   "name": "python",
   "nbconvert_exporter": "python",
   "pygments_lexer": "ipython3",
   "version": "3.11.5"
  }
 },
 "nbformat": 4,
 "nbformat_minor": 2
}
