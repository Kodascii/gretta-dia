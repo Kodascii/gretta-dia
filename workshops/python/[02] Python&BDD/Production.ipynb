{
 "cells": [
  {
   "cell_type": "markdown",
   "metadata": {},
   "source": [
    "# Workshop 02 - Python : BDD\n",
    "\n",
    "<p style=\"color:#2196F3; font-weight: 500; font-size:20px;\">STEP 1</p>\n",
    "\n",
    "- On initialize le premier client avec un dictionnaire comportant des champs vides."
   ]
  },
  {
   "cell_type": "code",
   "execution_count": 1,
   "metadata": {},
   "outputs": [],
   "source": [
    "client1 = {'surname': None, 'name': None, 'gender': None, 'balance': None}"
   ]
  },
  {
   "cell_type": "markdown",
   "metadata": {},
   "source": [
    "<p style=\"color:#2196F3; font-weight: 500; font-size:20px;\">STEP 2</p>\n",
    "\n",
    "- On créer une entrée dans un dictionnaire avec la syntaxe `dict[key] = value`."
   ]
  },
  {
   "cell_type": "code",
   "execution_count": null,
   "metadata": {},
   "outputs": [],
   "source": [
    "def main() -> int:\n",
    "    client1[\"surname\"] = input(f\"Renseignez le nom du client : \")\n",
    "    client1[\"name\"] = input(f\"Renseignez le prénom du client : \")\n",
    "    client1[\"gender\"] = input(f\"Renseignez le sexe du client : \")\n",
    "    client1[\"balance\"] = int(input(f\"Renseignez le solde du client : \"))\n",
    "\n",
    "    print(client1)\n",
    "    return 0\n",
    "\n",
    "main()"
   ]
  },
  {
   "cell_type": "markdown",
   "metadata": {},
   "source": [
    "<p style=\"color:#2196F3; font-weight: 500; font-size:20px;\">STEP 3</p>\n",
    "\n",
    "- On assigne une variable a chaque client (*à ne pas faire*), puis on les ajoutes dans une liste de nom `BDD`."
   ]
  },
  {
   "cell_type": "code",
   "execution_count": 2,
   "metadata": {},
   "outputs": [],
   "source": [
    "client2 =  {'surname': None, 'name': None, 'gender': None, 'balance': None}\n",
    "client3 =  {'surname': None, 'name': None, 'gender': None, 'balance': None}\n",
    "client4 =  {'surname': None, 'name': None, 'gender': None, 'balance': None}\n",
    "client5 =  {'surname': None, 'name': None, 'gender': None, 'balance': None}\n",
    "client6 =  {'surname': None, 'name': None, 'gender': None, 'balance': None}\n",
    "client7 =  {'surname': None, 'name': None, 'gender': None, 'balance': None}\n",
    "client8 =  {'surname': None, 'name': None, 'gender': None, 'balance': None}\n",
    "client9 =  {'surname': None, 'name': None, 'gender': None, 'balance': None}\n",
    "client10 = {'surname': None, 'name': None, 'gender': None, 'balance': None}\n",
    "client11 = {'surname': None, 'name': None, 'gender': None, 'balance': None}\n",
    "client12 = {'surname': None, 'name': None, 'gender': None, 'balance': None}\n",
    "client13 = {'surname': None, 'name': None, 'gender': None, 'balance': None}\n",
    "\n",
    "BDD = [client1, client2, client3, client4, client5, client6, client7, client8, client9, client10, client11, client12, client13]"
   ]
  },
  {
   "cell_type": "markdown",
   "metadata": {},
   "source": [
    "<p style=\"color:#2196F3; font-weight: 500; font-size:20px;\">STEP 4</p>\n",
    "\n",
    "- On renseigne les informations clients avec une boucle, de la même manière qu'en STEP 2.\n",
    "- **`BDD_replenish()` :** *Remplis la liste `BDD` en spécifiant un par un les champs des enregistrements.*\n",
    "- **`BDD_replenish_variant()` :** *Remplis la liste `BDD` en spécifiant un par un les champs des enregistrements et n'utilisant que `dict.keys()`.*\n",
    "- **`BDD_auto_replenish()` :** *Fonction permettant de remplir la liste `BDD` avec les informations fournies dans le PDF (Cette fonction est utilisé pour remplir automatiquement la liste `BDD`, pour le cas de démonstration sans avoir à remplir la liste)*"
   ]
  },
  {
   "cell_type": "code",
   "execution_count": 3,
   "metadata": {},
   "outputs": [],
   "source": [
    "def BDD_replenish():\n",
    "    for client in BDD:\n",
    "        client[\"surname\"] = input(f\"Renseignez le nom du client : \")\n",
    "        client[\"name\"] = input(f\"Renseignez le prénom du client : \")\n",
    "        client[\"gender\"] = input(f\"Renseignez le sexe du client : \")\n",
    "        client[\"balance\"] = int(input(f\"Renseignez le solde du client : \"))\n",
    "\n",
    "def BDD_replenish_variant():\n",
    "    for client in BDD:\n",
    "        for k in client.keys():\n",
    "            reply = input(f\"Renseignez le {k} du client : \")\n",
    "            client[k] = reply if k != 'balance' else int(reply)\n",
    "\n",
    "def BDD_auto_replenish():\n",
    "    global client1, client2, client3, client4, client5, client6, client7, client8, \\\n",
    "    client9, client10, client11, client12, client12, client13, BDD\n",
    "    \n",
    "    client1 =  {'surname': 'AGU',            'name': 'PATRICK',     'gender': 'M', 'balance': 3000}\n",
    "    client2 =  {'surname': 'JANAS',          'name': 'BARTOSZ',     'gender': 'M', 'balance': 2000}\n",
    "    client3 =  {'surname': 'BAYARCHULUUN',   'name': 'MUNKHERDENE', 'gender': 'M', 'balance': 1500}\n",
    "    client4 =  {'surname': 'BONNIN',         'name': 'PHILIPPE',    'gender': 'M', 'balance': 4500}\n",
    "    client5 =  {'surname': 'CARREY',         'name': 'RAPHAEL',     'gender': 'M', 'balance': 5000}\n",
    "    client6 =  {'surname': 'CHELEDNIK',      'name': 'ALEXANDRE',   'gender': 'M', 'balance': 3500}\n",
    "    client7 =  {'surname': 'CHIKRI',         'name': 'HASSAN',      'gender': 'M', 'balance': 2500}\n",
    "    client8 =  {'surname': 'DESSOLIN',       'name': 'THIBAUT',     'gender': 'M', 'balance': 4000}\n",
    "    client9  = {'surname': 'LAKHDAR EZZINE', 'name': 'HADJER',      'gender': 'F', 'balance': 1000}\n",
    "    client10 = {'surname': 'MEUNIER',        'name': 'ALEXIS',      'gender': 'M', 'balance': 3000}\n",
    "    client11 = {'surname': 'MOHAMED',        'name': 'AHMED',       'gender': 'M', 'balance': 2500}\n",
    "    client12 = {'surname': 'SADOUN',         'name': 'SALAH',       'gender': 'M', 'balance': 6000}\n",
    "    client13 = {'surname': 'THEUREAU',       'name': 'PAUL',        'gender': 'M', 'balance': 4500}\n",
    "\n",
    "    BDD = [client1, client2, client3, client4, client5, client6, client7, client8, client9, client10, client11, client12, client13]\n",
    "\n",
    "BDD_auto_replenish()"
   ]
  },
  {
   "cell_type": "markdown",
   "metadata": {},
   "source": [
    "<p style=\"color:#2196F3; font-weight: 500; font-size:20px;\">STEP 5</p>\n",
    "\n",
    "- On utilise une fonction `withdraw(client, amount)` qui permet de retirer la somme shouaité."
   ]
  },
  {
   "cell_type": "code",
   "execution_count": 11,
   "metadata": {},
   "outputs": [
    {
     "name": "stdout",
     "output_type": "stream",
     "text": [
      "Mr PHILIPPE a retiré 500 euros.\n",
      "Mme HADJER a retiré 1100 euros.\n"
     ]
    }
   ],
   "source": [
    "def withdraw(client, amount) -> int:\n",
    "    client['balance'] -= amount\n",
    "    print(f\"{'Mr' if client['gender'] == 'M' else 'Mme'} {client['name']} a retiré {amount} euros.\")\n",
    "\n",
    "withdraw(client4, 500)\n",
    "withdraw(client9, 1100)"
   ]
  },
  {
   "cell_type": "markdown",
   "metadata": {},
   "source": [
    "<p style=\"color:#2196F3; font-weight: 500; font-size:20px;\">STEP 6</p>\n",
    "\n",
    "- On utilise une fonction `print_balance(client)` qui permet d'afficher, le solde que possède le client renseigné dans notre `BDD`."
   ]
  },
  {
   "cell_type": "code",
   "execution_count": 13,
   "metadata": {},
   "outputs": [
    {
     "name": "stdout",
     "output_type": "stream",
     "text": [
      "Le solde de Mr PHILIPPE s'élève à 2500 euros.\n",
      "Le solde de Mme HADJER s'élève à -2300 euros.\n"
     ]
    }
   ],
   "source": [
    "def print_balance(client):\n",
    "    print(f\"Le solde de {'Mr' if client['gender'] == 'M' else 'Mme'} {client['name']} s'élève à {client['balance']} euros.\")\n",
    "    \n",
    "print_balance(client4)\n",
    "print_balance(client9)"
   ]
  },
  {
   "cell_type": "markdown",
   "metadata": {},
   "source": [
    "<p style=\"color:#2196F3; font-weight: 500; font-size:20px;\">STEP 7</p>\n",
    "\n",
    "- **`M_counter` :** *Compteur du nombre de clients masculins.*\n",
    "- **`F_counter` :** *Compteur du nombre de clients féminins.*"
   ]
  },
  {
   "cell_type": "code",
   "execution_count": 6,
   "metadata": {},
   "outputs": [
    {
     "name": "stdout",
     "output_type": "stream",
     "text": [
      "Le nombre de client masculins est de 12.\n",
      "Le nombre de client féminins est de 1.\n"
     ]
    }
   ],
   "source": [
    "def BDD_infos():\n",
    "    M_counter, F_counter = 0, 0\n",
    "\n",
    "    for client in BDD:\n",
    "        match client['gender'] :\n",
    "            case 'M' : M_counter += 1\n",
    "            case 'F' : F_counter += 1\n",
    "\n",
    "    print(f\"Le nombre de client masculins est de {M_counter}.\")\n",
    "    print(f\"Le nombre de client féminins est de {F_counter}.\")\n",
    "\n",
    "\n",
    "BDD_infos()"
   ]
  },
  {
   "cell_type": "markdown",
   "metadata": {},
   "source": [
    "<p style=\"color:#2196F3; font-weight: 500; font-size:20px;\">STEP 8</p>"
   ]
  },
  {
   "cell_type": "markdown",
   "metadata": {},
   "source": [
    "- Nous assignons les informations de **Mr KURDY** dans une nouvelle variable `client14`, puis nous l'ajoutons avec la fonction pré-définie `append()` dans notre liste `BDD`."
   ]
  },
  {
   "cell_type": "code",
   "execution_count": 7,
   "metadata": {},
   "outputs": [
    {
     "name": "stdout",
     "output_type": "stream",
     "text": [
      "{'name': 'KURDY', 'surname': 'Bassam', 'gender': 'M', 'balance': 2000}\n"
     ]
    }
   ],
   "source": [
    "client14 = {\"name\": \"KURDY\", \"surname\": \"Bassam\", \"gender\": 'M', \"balance\": 2000}\n",
    "BDD.append(client14)\n",
    "\n",
    "print(client14)"
   ]
  },
  {
   "cell_type": "markdown",
   "metadata": {},
   "source": [
    "<p style=\"color:#2196F3; font-weight: 500; font-size:20px;\">BONUS: Récursivité</p>"
   ]
  },
  {
   "cell_type": "code",
   "execution_count": null,
   "metadata": {},
   "outputs": [],
   "source": [
    "def factorial(n):\n",
    "    if n < 0 : return -1\n",
    "    if n == 1 or n == 0: return 1\n",
    "\n",
    "    return n * factorial(n - 1)\n",
    "\n",
    "print(f\"(-5)! = {factorial(-5)}\")\n",
    "print(f\"5! = {factorial(5)}\")"
   ]
  },
  {
   "cell_type": "markdown",
   "metadata": {},
   "source": [
    "<p style=\"color:#2196F3; font-weight: 500; font-size:20px;\">BONUS (RE-WORKSHOP)</p>"
   ]
  },
  {
   "cell_type": "markdown",
   "metadata": {},
   "source": [
    "- **`BDD` :** *Liste comprenant l'ensemble des clients de la banque.*\n",
    "- **`fields` :** : *Les champs que la base de donnée comprend.*"
   ]
  },
  {
   "cell_type": "code",
   "execution_count": 17,
   "metadata": {},
   "outputs": [
    {
     "name": "stdout",
     "output_type": "stream",
     "text": [
      "Client : Mr JANAS BARTOSZ\n",
      "Solde  : 2000\n",
      "--------------------------------------\n",
      "Votre solde est insuffisant pour cette opération.\n",
      "Client : Mr JANAS BARTOSZ\n",
      "Solde  : 2000\n",
      "--------------------------------------\n",
      "\n",
      "# BANQUE BDD #########################\n",
      "--------------------------------------\n",
      "Client : Mr AGU PATRICK\n",
      "Solde  : 3000\n",
      "--------------------------------------\n",
      "Client : Mr JANAS BARTOSZ\n",
      "Solde  : 2000\n",
      "--------------------------------------\n",
      "Client : Mr BAYARCHULUUN MUNKHERDENE\n",
      "Solde  : 1500\n",
      "--------------------------------------\n",
      "Client : Mr BONNIN PHILIPPE\n",
      "Solde  : 4500\n",
      "--------------------------------------\n",
      "Client : Mr CARREY RAPHAEL\n",
      "Solde  : 5000\n",
      "--------------------------------------\n",
      "Client : Mr CHELEDNIK ALEXANDRE\n",
      "Solde  : 3500\n",
      "--------------------------------------\n",
      "Client : Mr CHIKRI HASSAN\n",
      "Solde  : 2500\n",
      "--------------------------------------\n",
      "Client : Mr DESSOLIN THIBAUT\n",
      "Solde  : 4000\n",
      "--------------------------------------\n",
      "Client : Mme LAKHDAR EZZINE HADJER\n",
      "Solde  : 1000\n",
      "--------------------------------------\n",
      "Client : Mr MEUNIER ALEXIS\n",
      "Solde  : 3000\n",
      "--------------------------------------\n",
      "Client : Mr MOHAMED AHMED\n",
      "Solde  : 2500\n",
      "--------------------------------------\n",
      "Client : Mr SADOUN SALAH\n",
      "Solde  : 6000\n",
      "--------------------------------------\n",
      "Client : Mr THEUREAU PAUL\n",
      "Solde  : 4500\n",
      "--------------------------------------\n",
      "######################################\n"
     ]
    }
   ],
   "source": [
    "BDD = []\n",
    "fields = [\"surname\", \"name\", \"gender\", \"balance\"]\n",
    "\n",
    "def main() -> int:\n",
    "    init_BDD()\n",
    "    print_client_infos('janas') # Imprime les informations du client 'JANAS'\n",
    "\n",
    "    withdraw('janas', 3000)     # Retire 3000 euros de la banque\n",
    "    print_client_infos('janas')\n",
    "\n",
    "    print_db()\n",
    "\n",
    "\n",
    "def create_client():\n",
    "    '''\n",
    "    Crée un client en ligne de commande, en specifiant séparement les champs.\n",
    "    '''\n",
    "\n",
    "    client = {}\n",
    "    for f in fields:\n",
    "        client[f] = input(f\"Renseignez le {f} du client : \")\n",
    "\n",
    "    BDD.append(client)\n",
    "\n",
    "def add_client(surname, name, gender, balance):\n",
    "    '''\n",
    "    Fonction qui permet d'ajouter un client dans la `BDD`.\n",
    "    '''\n",
    "\n",
    "    BDD.append({'surname': surname, 'name': name, 'gender': gender, 'balance': balance})\n",
    "    \n",
    "def init_BDD():\n",
    "    '''\n",
    "    Initialize la liste BDD avec les informations fournies dans le workshop\n",
    "    '''\n",
    "\n",
    "    add_client('AGU',            'PATRICK',     'M', 3000)\n",
    "    add_client('JANAS',          'BARTOSZ',     'M', 2000)\n",
    "    add_client('BAYARCHULUUN',   'MUNKHERDENE', 'M', 1500)\n",
    "    add_client('BONNIN',         'PHILIPPE',    'M', 4500)\n",
    "    add_client('CARREY',         'RAPHAEL',     'M', 5000)\n",
    "    add_client('CHELEDNIK',      'ALEXANDRE',   'M', 3500)\n",
    "    add_client('CHIKRI',         'HASSAN',      'M', 2500)\n",
    "    add_client('DESSOLIN',       'THIBAUT',     'M', 4000)\n",
    "    add_client('LAKHDAR EZZINE', 'HADJER',      'F', 1000)\n",
    "    add_client('MEUNIER',        'ALEXIS',      'M', 3000)\n",
    "    add_client('MOHAMED',        'AHMED',       'M', 2500)\n",
    "    add_client('SADOUN',         'SALAH',       'M', 6000)\n",
    "    add_client('THEUREAU',       'PAUL',        'M', 4500)\n",
    "\n",
    "def search_client(surname:str) -> dict:\n",
    "    ''''\n",
    "    Retourne le client de la BDD en spécifiant le nom de famille.\n",
    "    Incenssible à la casse.\n",
    "    '''\n",
    "\n",
    "    for client in BDD:\n",
    "        if client['surname'] == surname.upper(): \n",
    "            return client\n",
    "        \n",
    "    return None\n",
    "\n",
    "def withdraw(surname:str, amount:float) -> int:\n",
    "    '''\n",
    "    Tente de prelever la valeur de `amount` du compte de `surname`.\n",
    "    '''\n",
    "\n",
    "    client = search_client(surname)\n",
    "    if client != None: \n",
    "        if client['balance'] >= amount:\n",
    "            client['balance'] -= amount\n",
    "            return amount\n",
    "        else:\n",
    "            print(\"Votre solde est insuffisant pour cette opération.\")\n",
    "            return 0\n",
    "\n",
    "def print_client_infos(surname:str):\n",
    "    '''\n",
    "    Imprime les informations client en spécifiant le nom de famille.\n",
    "    Incenssible à la casse.\n",
    "    '''\n",
    "\n",
    "    client = search_client(surname)\n",
    "    if client == None:\n",
    "        print(f\"No client with surname '{surname.upper()}' in the database...\")\n",
    "    else:\n",
    "        print(f\"Client : {'Mr' if client['gender'] == 'M' else 'Mme'} {client['surname']} {client['name']}\")\n",
    "        print(f\"Solde  : {client['balance']}\")\n",
    "        print(\"--------------------------------------\")\n",
    "\n",
    "def print_db():\n",
    "    print(f\"\\n# BANQUE BDD {'#' * 25}\")\n",
    "    print('-' * 38)\n",
    "    for client in BDD:\n",
    "        print_client_infos(client['surname'])\n",
    "    print(\"#\" * 38)\n",
    "\n",
    "main()"
   ]
  }
 ],
 "metadata": {
  "kernelspec": {
   "display_name": "base",
   "language": "python",
   "name": "python3"
  },
  "language_info": {
   "codemirror_mode": {
    "name": "ipython",
    "version": 3
   },
   "file_extension": ".py",
   "mimetype": "text/x-python",
   "name": "python",
   "nbconvert_exporter": "python",
   "pygments_lexer": "ipython3",
   "version": "3.11.5"
  }
 },
 "nbformat": 4,
 "nbformat_minor": 2
}
