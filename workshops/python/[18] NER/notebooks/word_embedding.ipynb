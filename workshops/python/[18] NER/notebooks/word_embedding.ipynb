{
 "cells": [
  {
   "cell_type": "markdown",
   "metadata": {},
   "source": [
    "# [Word Embedding Techniques](https://dataaspirant.com/word-embedding-techniques-nlp/#t-1597685144197)\n",
    "\n",
    "1. [Data Fetch & Preprocessing](#data-fetch)\n",
    "    1. [Word Tokenization](#word-tokenization)\n",
    "1. [Word Embedding](#word-embedding)\n",
    "    1. [Bag-of-words](#bag-of-words)\n",
    "    1. [TF-IDF](#tf-idf)\n",
    "    1. [Word2Vec (CBOW)](#word2vec-cbow)\n",
    "    1. [Word2Vec (Skip-Gram)](#word2vec-skip-gram)\n"
   ]
  },
  {
   "cell_type": "code",
   "execution_count": 1,
   "metadata": {},
   "outputs": [],
   "source": [
    "# COMMON LIBS\n",
    "import string\n",
    "import re\n",
    "import numpy as np\n",
    "import pandas as pd\n",
    "import matplotlib.pyplot as plt\n",
    "import nltk\n",
    "\n",
    "# COMMON FUNCTIONS\n",
    "def print2DT(table, title=None):\n",
    "    \"\"\"\n",
    "    Pretty print for a 2D array.\n",
    "    \"\"\"\n",
    "\n",
    "    print(f'==> { title if title else \"table\"}: [')\n",
    "    for par in table:\n",
    "        print(f'\\t{par}')\n",
    "    print(']')"
   ]
  },
  {
   "cell_type": "markdown",
   "metadata": {},
   "source": [
    "## Data Fetch & Preprocessing"
   ]
  },
  {
   "cell_type": "code",
   "execution_count": 2,
   "metadata": {},
   "outputs": [],
   "source": [
    "# LOADING DATA FROM THE COUNT MONTE CRISTO BOOK\n",
    "with open('../res/CMC.txt', 'r', encoding='utf-8') as f:\n",
    "    corpus = f.read()\n",
    "\n",
    "corpus = corpus.split(\n",
    "    \"*** START OF THE PROJECT GUTENBERG EBOOK LE COMTE DE MONTE-CRISTO, TOME I ***\"\n",
    ")[1].split(\n",
    "    \"*** END OF THE PROJECT GUTENBERG EBOOK LE COMTE DE MONTE-CRISTO, TOME I ***\"\n",
    ")[0]\n",
    "\n",
    "corpus = corpus.split('\\n\\n')\n",
    "corpus = [ par.strip() for par in corpus ]"
   ]
  },
  {
   "cell_type": "markdown",
   "metadata": {},
   "source": [
    "### Word Tokenization"
   ]
  },
  {
   "cell_type": "code",
   "execution_count": 3,
   "metadata": {},
   "outputs": [
    {
     "name": "stdout",
     "output_type": "stream",
     "text": [
      "==> len(corpus): 4201\n",
      "==> corpus[:7]: [\n",
      "\tcomt mont cristo\n",
      "\talexandr duma\n",
      "\ttome i 1845 1846\n",
      "\ttabl matièr\n",
      "\talexandr duma i marseil arrivé ii père fil iii catalan iv complot v repa fiançail vi substitut procureur roi vii interrogatoir viii château if ix soir fiançail x petit cabinet tuileri xi ogr cors xii père fil xiii cent jour xiv prisonni furieux prisonni fou xv numéro 34 numéro 27 xvi savant italien xvii chambr abbé xviii trésor xix troisièm accè xx cimetièr château if xxi île tiboulen xxii contrebandi xxiii île mont cristo xxiv éblouissement xxv inconnu xxvi auberg pont gard xxvii récit xxviii registr prison xxix maison morrel xxx cinq septembr xxxi itali simbad marin\n",
      "\ti\n",
      "\tmarseil arrivé\n",
      "]\n"
     ]
    }
   ],
   "source": [
    "from nltk.corpus import stopwords\n",
    "from nltk.stem.porter import PorterStemmer\n",
    "\n",
    "# Remove punctuation\n",
    "def proc_punctuations(text):\n",
    "    words_bin = ['«', '»', '-', '\\'']\n",
    "    for w in words_bin:\n",
    "        text = text.replace(w, ' ')\n",
    "\n",
    "    return text.translate(str.maketrans('', '', string.punctuation))\n",
    "\n",
    "def proc_spacing(text):\n",
    "    return re.sub(r\"\\s+\", \" \", text)\n",
    "\n",
    "# Tokenization\n",
    "def proc_tokenisation(text):\n",
    "    return nltk.word_tokenize(text)\n",
    "\n",
    "# Stopwords\n",
    "def proc_stopwords(tokens):\n",
    "    stop_words = set(stopwords.words('french'))\n",
    "    return [ w for w in tokens if not w in stop_words ]\n",
    "\n",
    "# Stemming\n",
    "def proc_stemming(words):\n",
    "    stemmer = PorterStemmer()\n",
    "    return [ stemmer.stem(word) for word in words ]\n",
    "\n",
    "def proc_doc(doc):\n",
    "    processed = doc.lower()\n",
    "    processed = proc_punctuations(processed)\n",
    "    processed = proc_spacing(processed)\n",
    "    processed = proc_tokenisation(processed)\n",
    "    processed = proc_stopwords(processed)\n",
    "    return proc_stemming(processed)\n",
    "\n",
    "# From text to tokens\n",
    "def proc_corpus2tokens(corpus):\n",
    "    builder = []\n",
    "    for doc in corpus:\n",
    "        if doc:\n",
    "            processed = proc_doc(doc)\n",
    "            builder.append(' '.join(processed))\n",
    "        \n",
    "    return builder\n",
    "\n",
    "corpus = proc_corpus2tokens(corpus)\n",
    "print(f'==> len(corpus): {len(corpus)}')\n",
    "print2DT(corpus[:7], title='corpus[:7]')"
   ]
  },
  {
   "cell_type": "markdown",
   "metadata": {},
   "source": [
    "## Word Embedding"
   ]
  },
  {
   "cell_type": "markdown",
   "metadata": {},
   "source": [
    "### Bag-of-words"
   ]
  },
  {
   "cell_type": "code",
   "execution_count": 4,
   "metadata": {},
   "outputs": [
    {
     "name": "stdout",
     "output_type": "stream",
     "text": [
      "==> X.shape: (4201, 8765)\n",
      "==> len(vocab): 8765\n",
      "==> X.todense():\n"
     ]
    },
    {
     "data": {
      "text/html": [
       "<div>\n",
       "<style scoped>\n",
       "    .dataframe tbody tr th:only-of-type {\n",
       "        vertical-align: middle;\n",
       "    }\n",
       "\n",
       "    .dataframe tbody tr th {\n",
       "        vertical-align: top;\n",
       "    }\n",
       "\n",
       "    .dataframe thead th {\n",
       "        text-align: right;\n",
       "    }\n",
       "</style>\n",
       "<table border=\"1\" class=\"dataframe\">\n",
       "  <thead>\n",
       "    <tr style=\"text-align: right;\">\n",
       "      <th></th>\n",
       "      <th>10</th>\n",
       "      <th>12</th>\n",
       "      <th>13</th>\n",
       "      <th>149</th>\n",
       "      <th>1498</th>\n",
       "      <th>15</th>\n",
       "      <th>1796</th>\n",
       "      <th>18</th>\n",
       "      <th>1806</th>\n",
       "      <th>1807</th>\n",
       "      <th>...</th>\n",
       "      <th>événement</th>\n",
       "      <th>évêque</th>\n",
       "      <th>être</th>\n",
       "      <th>île</th>\n",
       "      <th>îlot</th>\n",
       "      <th>ôta</th>\n",
       "      <th>ôtait</th>\n",
       "      <th>ôte</th>\n",
       "      <th>ôter</th>\n",
       "      <th>ôté</th>\n",
       "    </tr>\n",
       "  </thead>\n",
       "  <tbody>\n",
       "    <tr>\n",
       "      <th>0</th>\n",
       "      <td>0</td>\n",
       "      <td>0</td>\n",
       "      <td>0</td>\n",
       "      <td>0</td>\n",
       "      <td>0</td>\n",
       "      <td>0</td>\n",
       "      <td>0</td>\n",
       "      <td>0</td>\n",
       "      <td>0</td>\n",
       "      <td>0</td>\n",
       "      <td>...</td>\n",
       "      <td>0</td>\n",
       "      <td>0</td>\n",
       "      <td>0</td>\n",
       "      <td>0</td>\n",
       "      <td>0</td>\n",
       "      <td>0</td>\n",
       "      <td>0</td>\n",
       "      <td>0</td>\n",
       "      <td>0</td>\n",
       "      <td>0</td>\n",
       "    </tr>\n",
       "    <tr>\n",
       "      <th>1</th>\n",
       "      <td>0</td>\n",
       "      <td>0</td>\n",
       "      <td>0</td>\n",
       "      <td>0</td>\n",
       "      <td>0</td>\n",
       "      <td>0</td>\n",
       "      <td>0</td>\n",
       "      <td>0</td>\n",
       "      <td>0</td>\n",
       "      <td>0</td>\n",
       "      <td>...</td>\n",
       "      <td>0</td>\n",
       "      <td>0</td>\n",
       "      <td>0</td>\n",
       "      <td>0</td>\n",
       "      <td>0</td>\n",
       "      <td>0</td>\n",
       "      <td>0</td>\n",
       "      <td>0</td>\n",
       "      <td>0</td>\n",
       "      <td>0</td>\n",
       "    </tr>\n",
       "    <tr>\n",
       "      <th>2</th>\n",
       "      <td>0</td>\n",
       "      <td>0</td>\n",
       "      <td>0</td>\n",
       "      <td>0</td>\n",
       "      <td>0</td>\n",
       "      <td>0</td>\n",
       "      <td>0</td>\n",
       "      <td>0</td>\n",
       "      <td>0</td>\n",
       "      <td>0</td>\n",
       "      <td>...</td>\n",
       "      <td>0</td>\n",
       "      <td>0</td>\n",
       "      <td>0</td>\n",
       "      <td>0</td>\n",
       "      <td>0</td>\n",
       "      <td>0</td>\n",
       "      <td>0</td>\n",
       "      <td>0</td>\n",
       "      <td>0</td>\n",
       "      <td>0</td>\n",
       "    </tr>\n",
       "    <tr>\n",
       "      <th>3</th>\n",
       "      <td>0</td>\n",
       "      <td>0</td>\n",
       "      <td>0</td>\n",
       "      <td>0</td>\n",
       "      <td>0</td>\n",
       "      <td>0</td>\n",
       "      <td>0</td>\n",
       "      <td>0</td>\n",
       "      <td>0</td>\n",
       "      <td>0</td>\n",
       "      <td>...</td>\n",
       "      <td>0</td>\n",
       "      <td>0</td>\n",
       "      <td>0</td>\n",
       "      <td>0</td>\n",
       "      <td>0</td>\n",
       "      <td>0</td>\n",
       "      <td>0</td>\n",
       "      <td>0</td>\n",
       "      <td>0</td>\n",
       "      <td>0</td>\n",
       "    </tr>\n",
       "    <tr>\n",
       "      <th>4</th>\n",
       "      <td>0</td>\n",
       "      <td>0</td>\n",
       "      <td>0</td>\n",
       "      <td>0</td>\n",
       "      <td>0</td>\n",
       "      <td>0</td>\n",
       "      <td>0</td>\n",
       "      <td>0</td>\n",
       "      <td>0</td>\n",
       "      <td>0</td>\n",
       "      <td>...</td>\n",
       "      <td>0</td>\n",
       "      <td>0</td>\n",
       "      <td>0</td>\n",
       "      <td>2</td>\n",
       "      <td>0</td>\n",
       "      <td>0</td>\n",
       "      <td>0</td>\n",
       "      <td>0</td>\n",
       "      <td>0</td>\n",
       "      <td>0</td>\n",
       "    </tr>\n",
       "  </tbody>\n",
       "</table>\n",
       "<p>5 rows × 8765 columns</p>\n",
       "</div>"
      ],
      "text/plain": [
       "   10  12  13  149  1498  15  1796  18  1806  1807  ...  événement  évêque  \\\n",
       "0   0   0   0    0     0   0     0   0     0     0  ...          0       0   \n",
       "1   0   0   0    0     0   0     0   0     0     0  ...          0       0   \n",
       "2   0   0   0    0     0   0     0   0     0     0  ...          0       0   \n",
       "3   0   0   0    0     0   0     0   0     0     0  ...          0       0   \n",
       "4   0   0   0    0     0   0     0   0     0     0  ...          0       0   \n",
       "\n",
       "   être  île  îlot  ôta  ôtait  ôte  ôter  ôté  \n",
       "0     0    0     0    0      0    0     0    0  \n",
       "1     0    0     0    0      0    0     0    0  \n",
       "2     0    0     0    0      0    0     0    0  \n",
       "3     0    0     0    0      0    0     0    0  \n",
       "4     0    2     0    0      0    0     0    0  \n",
       "\n",
       "[5 rows x 8765 columns]"
      ]
     },
     "execution_count": 4,
     "metadata": {},
     "output_type": "execute_result"
    }
   ],
   "source": [
    "from sklearn.feature_extraction.text import CountVectorizer\n",
    "\n",
    "vectorizer = CountVectorizer()\n",
    "X = vectorizer.fit_transform(corpus)\n",
    "\n",
    "vocab = vectorizer.vocabulary_\n",
    "df = pd.DataFrame(data=X.toarray(), columns=sorted(vocab.keys()))\n",
    "\n",
    "print(f'==> X.shape: {X.toarray().shape}')\n",
    "print(f'==> len(vocab): {len(vocab)}')\n",
    "print('==> X.todense():')\n",
    "df.head()"
   ]
  },
  {
   "cell_type": "markdown",
   "metadata": {},
   "source": [
    "### TF-IDF"
   ]
  },
  {
   "cell_type": "code",
   "execution_count": 5,
   "metadata": {},
   "outputs": [
    {
     "name": "stdout",
     "output_type": "stream",
     "text": [
      "==> X.shape: (4201, 8765)\n",
      "==> len(vocab): 8765\n",
      "==> X.todense():\n"
     ]
    },
    {
     "data": {
      "text/html": [
       "<div>\n",
       "<style scoped>\n",
       "    .dataframe tbody tr th:only-of-type {\n",
       "        vertical-align: middle;\n",
       "    }\n",
       "\n",
       "    .dataframe tbody tr th {\n",
       "        vertical-align: top;\n",
       "    }\n",
       "\n",
       "    .dataframe thead th {\n",
       "        text-align: right;\n",
       "    }\n",
       "</style>\n",
       "<table border=\"1\" class=\"dataframe\">\n",
       "  <thead>\n",
       "    <tr style=\"text-align: right;\">\n",
       "      <th></th>\n",
       "      <th>10</th>\n",
       "      <th>12</th>\n",
       "      <th>13</th>\n",
       "      <th>149</th>\n",
       "      <th>1498</th>\n",
       "      <th>15</th>\n",
       "      <th>1796</th>\n",
       "      <th>18</th>\n",
       "      <th>1806</th>\n",
       "      <th>1807</th>\n",
       "      <th>...</th>\n",
       "      <th>événement</th>\n",
       "      <th>évêque</th>\n",
       "      <th>être</th>\n",
       "      <th>île</th>\n",
       "      <th>îlot</th>\n",
       "      <th>ôta</th>\n",
       "      <th>ôtait</th>\n",
       "      <th>ôte</th>\n",
       "      <th>ôter</th>\n",
       "      <th>ôté</th>\n",
       "    </tr>\n",
       "  </thead>\n",
       "  <tbody>\n",
       "    <tr>\n",
       "      <th>0</th>\n",
       "      <td>0.0</td>\n",
       "      <td>0.0</td>\n",
       "      <td>0.0</td>\n",
       "      <td>0.0</td>\n",
       "      <td>0.0</td>\n",
       "      <td>0.0</td>\n",
       "      <td>0.0</td>\n",
       "      <td>0.0</td>\n",
       "      <td>0.0</td>\n",
       "      <td>0.0</td>\n",
       "      <td>...</td>\n",
       "      <td>0.0</td>\n",
       "      <td>0.0</td>\n",
       "      <td>0.0</td>\n",
       "      <td>0.000000</td>\n",
       "      <td>0.0</td>\n",
       "      <td>0.0</td>\n",
       "      <td>0.0</td>\n",
       "      <td>0.0</td>\n",
       "      <td>0.0</td>\n",
       "      <td>0.0</td>\n",
       "    </tr>\n",
       "    <tr>\n",
       "      <th>1</th>\n",
       "      <td>0.0</td>\n",
       "      <td>0.0</td>\n",
       "      <td>0.0</td>\n",
       "      <td>0.0</td>\n",
       "      <td>0.0</td>\n",
       "      <td>0.0</td>\n",
       "      <td>0.0</td>\n",
       "      <td>0.0</td>\n",
       "      <td>0.0</td>\n",
       "      <td>0.0</td>\n",
       "      <td>...</td>\n",
       "      <td>0.0</td>\n",
       "      <td>0.0</td>\n",
       "      <td>0.0</td>\n",
       "      <td>0.000000</td>\n",
       "      <td>0.0</td>\n",
       "      <td>0.0</td>\n",
       "      <td>0.0</td>\n",
       "      <td>0.0</td>\n",
       "      <td>0.0</td>\n",
       "      <td>0.0</td>\n",
       "    </tr>\n",
       "    <tr>\n",
       "      <th>2</th>\n",
       "      <td>0.0</td>\n",
       "      <td>0.0</td>\n",
       "      <td>0.0</td>\n",
       "      <td>0.0</td>\n",
       "      <td>0.0</td>\n",
       "      <td>0.0</td>\n",
       "      <td>0.0</td>\n",
       "      <td>0.0</td>\n",
       "      <td>0.0</td>\n",
       "      <td>0.0</td>\n",
       "      <td>...</td>\n",
       "      <td>0.0</td>\n",
       "      <td>0.0</td>\n",
       "      <td>0.0</td>\n",
       "      <td>0.000000</td>\n",
       "      <td>0.0</td>\n",
       "      <td>0.0</td>\n",
       "      <td>0.0</td>\n",
       "      <td>0.0</td>\n",
       "      <td>0.0</td>\n",
       "      <td>0.0</td>\n",
       "    </tr>\n",
       "    <tr>\n",
       "      <th>3</th>\n",
       "      <td>0.0</td>\n",
       "      <td>0.0</td>\n",
       "      <td>0.0</td>\n",
       "      <td>0.0</td>\n",
       "      <td>0.0</td>\n",
       "      <td>0.0</td>\n",
       "      <td>0.0</td>\n",
       "      <td>0.0</td>\n",
       "      <td>0.0</td>\n",
       "      <td>0.0</td>\n",
       "      <td>...</td>\n",
       "      <td>0.0</td>\n",
       "      <td>0.0</td>\n",
       "      <td>0.0</td>\n",
       "      <td>0.000000</td>\n",
       "      <td>0.0</td>\n",
       "      <td>0.0</td>\n",
       "      <td>0.0</td>\n",
       "      <td>0.0</td>\n",
       "      <td>0.0</td>\n",
       "      <td>0.0</td>\n",
       "    </tr>\n",
       "    <tr>\n",
       "      <th>4</th>\n",
       "      <td>0.0</td>\n",
       "      <td>0.0</td>\n",
       "      <td>0.0</td>\n",
       "      <td>0.0</td>\n",
       "      <td>0.0</td>\n",
       "      <td>0.0</td>\n",
       "      <td>0.0</td>\n",
       "      <td>0.0</td>\n",
       "      <td>0.0</td>\n",
       "      <td>0.0</td>\n",
       "      <td>...</td>\n",
       "      <td>0.0</td>\n",
       "      <td>0.0</td>\n",
       "      <td>0.0</td>\n",
       "      <td>0.133388</td>\n",
       "      <td>0.0</td>\n",
       "      <td>0.0</td>\n",
       "      <td>0.0</td>\n",
       "      <td>0.0</td>\n",
       "      <td>0.0</td>\n",
       "      <td>0.0</td>\n",
       "    </tr>\n",
       "  </tbody>\n",
       "</table>\n",
       "<p>5 rows × 8765 columns</p>\n",
       "</div>"
      ],
      "text/plain": [
       "    10   12   13  149  1498   15  1796   18  1806  1807  ...  événement  \\\n",
       "0  0.0  0.0  0.0  0.0   0.0  0.0   0.0  0.0   0.0   0.0  ...        0.0   \n",
       "1  0.0  0.0  0.0  0.0   0.0  0.0   0.0  0.0   0.0   0.0  ...        0.0   \n",
       "2  0.0  0.0  0.0  0.0   0.0  0.0   0.0  0.0   0.0   0.0  ...        0.0   \n",
       "3  0.0  0.0  0.0  0.0   0.0  0.0   0.0  0.0   0.0   0.0  ...        0.0   \n",
       "4  0.0  0.0  0.0  0.0   0.0  0.0   0.0  0.0   0.0   0.0  ...        0.0   \n",
       "\n",
       "   évêque  être       île  îlot  ôta  ôtait  ôte  ôter  ôté  \n",
       "0     0.0   0.0  0.000000   0.0  0.0    0.0  0.0   0.0  0.0  \n",
       "1     0.0   0.0  0.000000   0.0  0.0    0.0  0.0   0.0  0.0  \n",
       "2     0.0   0.0  0.000000   0.0  0.0    0.0  0.0   0.0  0.0  \n",
       "3     0.0   0.0  0.000000   0.0  0.0    0.0  0.0   0.0  0.0  \n",
       "4     0.0   0.0  0.133388   0.0  0.0    0.0  0.0   0.0  0.0  \n",
       "\n",
       "[5 rows x 8765 columns]"
      ]
     },
     "execution_count": 5,
     "metadata": {},
     "output_type": "execute_result"
    }
   ],
   "source": [
    "from sklearn.feature_extraction.text import TfidfVectorizer\n",
    "\n",
    "vectorizer = TfidfVectorizer()\n",
    "X = vectorizer.fit_transform(corpus)\n",
    "\n",
    "vocab = vectorizer.get_feature_names_out()\n",
    "df = pd.DataFrame(data=X.toarray(), columns=sorted(vocab))\n",
    "\n",
    "print(f'==> X.shape: {X.shape}')\n",
    "print(f'==> len(vocab): {len(vocab)}')\n",
    "print('==> X.todense():')\n",
    "df.head()"
   ]
  },
  {
   "cell_type": "markdown",
   "metadata": {},
   "source": [
    "### Word2Vec (CBOW)"
   ]
  },
  {
   "cell_type": "code",
   "execution_count": 6,
   "metadata": {},
   "outputs": [
    {
     "name": "stdout",
     "output_type": "stream",
     "text": [
      "==> len(vocab): 4876\n",
      "==> vocab_list[:15]: ['', '10', '13', '1498', '15', '1807', '1811', '1814', '1815', '1816', '1er', '20', '24', '25', '27']\n",
      "==> index_of(\"parlé\"): 636\n",
      "==> key_of(2): \"tout\"\n"
     ]
    }
   ],
   "source": [
    "from gensim.models import Word2Vec\n",
    "from sklearn.decomposition import PCA\n",
    "\n",
    "# BUILDING Word2Vec (CBOW) MODEL\n",
    "vectorizer = Word2Vec(\n",
    "    sentences = [ doc.split(' ') for doc in corpus ],\n",
    "    window    = 5,\n",
    "    min_count = 2,\n",
    "    workers   = 1,\n",
    "    sg        = 0\n",
    ")\n",
    "\n",
    "vocab = vectorizer.wv\n",
    "vocab_list = sorted([word for word in vocab.key_to_index.keys()])\n",
    "\n",
    "print(f'==> len(vocab): {len(vocab)}')\n",
    "print(f'==> vocab_list[:15]: {vocab_list[:15]}')\n",
    "print(f'==> index_of(\"parlé\"): {vocab.key_to_index['parlé']}')\n",
    "print(f'==> key_of(2): \"{vocab.index_to_key[2]}\"')"
   ]
  },
  {
   "cell_type": "code",
   "execution_count": 7,
   "metadata": {},
   "outputs": [
    {
     "name": "stdout",
     "output_type": "stream",
     "text": [
      "(100,)\n",
      "[-0.05482381  0.09152642  0.03394065  0.02519394  0.05609752 -0.25417507\n",
      "  0.08244976  0.22695516 -0.09511357 -0.05785726  0.03280456 -0.15579355\n",
      " -0.00190071  0.02463996  0.00497938 -0.05981381  0.03356754 -0.0744637\n",
      " -0.02295569 -0.2234824   0.0587737   0.014912    0.11065864 -0.05689391\n",
      "  0.02467147 -0.00834063 -0.13144039 -0.0329156  -0.14253096 -0.06620792\n",
      "  0.1309214   0.01265914  0.08113715 -0.106121   -0.07382993  0.08785814\n",
      " -0.01277039 -0.08541936 -0.01490545 -0.20749907  0.01716065 -0.10157976\n",
      " -0.00026448  0.00092033  0.07821385 -0.06660843 -0.16720338 -0.02073481\n",
      "  0.07556189  0.08162187  0.0620866  -0.09829181 -0.0398997   0.01088121\n",
      " -0.08497067  0.05338421  0.07308523 -0.00520456 -0.09255704  0.02572685\n",
      "  0.02851023  0.03306456 -0.0226503   0.01395965 -0.12804249  0.12799993\n",
      " -0.00297461  0.12530059 -0.16145146  0.07264781 -0.10952318  0.0789291\n",
      "  0.11060087 -0.03199708  0.1042777   0.04647787 -0.02710348 -0.01534312\n",
      " -0.13754104 -0.00949164 -0.08504988 -0.00852406 -0.11718858  0.19413239\n",
      " -0.00968723  0.0028843   0.01842001  0.08675247  0.10867152 -0.00496795\n",
      "  0.12943764  0.03494988  0.00531989  0.04189204  0.19366017  0.09516931\n",
      "  0.02105141 -0.10768317  0.02462916 -0.04450745]\n"
     ]
    }
   ],
   "source": [
    "print(vocab['parlé'].shape)\n",
    "print(vocab['parlé'])"
   ]
  },
  {
   "cell_type": "code",
   "execution_count": 17,
   "metadata": {},
   "outputs": [
    {
     "name": "stdout",
     "output_type": "stream",
     "text": [
      "==> prediction: [('croir', 0.9986854195594788), ('arrêté', 0.9986783862113953), ('preuv', 0.9986772537231445), ('sort', 0.9986737966537476), ('longtemp', 0.9986423254013062)]\n"
     ]
    }
   ],
   "source": [
    "# PREDICTING WORD FROM CONTEXT\n",
    "def w2v_predict_word(context, vocab, topn=5):\n",
    "    context = proc_doc(context)\n",
    "    print(f'==> prediction: {vocab.most_similar(positive=context, topn=topn)}')\n",
    "\n",
    "w2v_predict_word(context='nous a fait perdre un jour et demi', vocab=vocab)"
   ]
  },
  {
   "cell_type": "code",
   "execution_count": 9,
   "metadata": {},
   "outputs": [
    {
     "data": {
      "image/png": "[encoded data removed]",
      "text/plain": [
       "<Figure size 640x480 with 1 Axes>"
      ]
     },
     "metadata": {},
     "output_type": "display_data"
    }
   ],
   "source": [
    "# PLOT VECTORIZED VOCABULARY SPACE\n",
    "svd = 50  # start vocabulary display\n",
    "mvd = 20  # maximum vocabulary display\n",
    "\n",
    "X = vocab.__getitem__(vocab_list)\n",
    "pca = PCA(n_components=2)\n",
    "result = pca.fit_transform(X)\n",
    "\n",
    "plt.scatter(result[svd:svd+mvd,0], result[svd:svd+mvd,1])\n",
    "for i, word in enumerate(vocab_list[svd:svd+mvd]):\n",
    "    plt.annotate(text=word, xy=(result[svd+i,0], result[svd+i,1]))\n",
    "plt.title(f'Vectorized vocabulary from {svd} up to {svd+mvd}')\n",
    "plt.show()"
   ]
  },
  {
   "cell_type": "markdown",
   "metadata": {},
   "source": [
    "### Word2Vec (Skip-Gram)"
   ]
  },
  {
   "cell_type": "code",
   "execution_count": 10,
   "metadata": {},
   "outputs": [
    {
     "name": "stdout",
     "output_type": "stream",
     "text": [
      "==> len(vocab): 4876\n",
      "==> vocab_list[:15]: ['', '10', '13', '1498', '15', '1807', '1811', '1814', '1815', '1816', '1er', '20', '24', '25', '27']\n"
     ]
    }
   ],
   "source": [
    "from gensim.models import Word2Vec\n",
    "from sklearn.decomposition import PCA\n",
    "\n",
    "# BUILDING Word2Vec (Skip-Gram) MODEL\n",
    "vectorizer = Word2Vec(\n",
    "    sentences = [ doc.split(' ') for doc in corpus ],\n",
    "    window    = 2,\n",
    "    min_count = 2,\n",
    "    workers   = 1,\n",
    "    sg        = 1\n",
    ")\n",
    "\n",
    "vocab = vectorizer.wv\n",
    "vocab_list = sorted([word for word in vocab.key_to_index.keys()])\n",
    "\n",
    "print(f'==> len(vocab): {len(vocab)}')\n",
    "print(f'==> vocab_list[:15]: {vocab_list[:15]}')"
   ]
  },
  {
   "cell_type": "code",
   "execution_count": 29,
   "metadata": {},
   "outputs": [
    {
     "name": "stdout",
     "output_type": "stream",
     "text": [
      "[('', 0.025624124333262444), ('frémit', -0.6782318949699402), ('mène', -0.7099460959434509), ('continuon', -0.7405833005905151), ('mill', -0.7429097890853882), ('xxx', -0.7440593242645264), ('faisiez', -0.7449479103088379), ('cent', -0.7478203177452087), ('peu', -0.7491774559020996), ('payez', -0.7544300556182861)]\n"
     ]
    }
   ],
   "source": [
    "print(vocab.most_similar(negative=['bien']))"
   ]
  },
  {
   "cell_type": "code",
   "execution_count": 12,
   "metadata": {},
   "outputs": [
    {
     "name": "stdout",
     "output_type": "stream",
     "text": [
      "[('troi', 0.9957102537155151), ('quatr', 0.9950019121170044), ('cinq', 0.9944425225257874), ('moi', 0.9944232702255249), ('an', 0.9942100644111633)]\n"
     ]
    }
   ],
   "source": [
    "# OBTAINING CONTEXT FROM WORD\n",
    "def w2v_predict_context(word, vocab, topn=5):\n",
    "    word = proc_doc(word)\n",
    "    print(vocab.most_similar(positive=word, topn=topn))\n",
    "\n",
    "w2v_predict_context('deux', vocab)"
   ]
  },
  {
   "cell_type": "code",
   "execution_count": 13,
   "metadata": {},
   "outputs": [
    {
     "data": {
      "image/png": "[encoded data removed]",
      "text/plain": [
       "<Figure size 640x480 with 1 Axes>"
      ]
     },
     "metadata": {},
     "output_type": "display_data"
    }
   ],
   "source": [
    "# PLOT VECTORIZED VOCABULARY SPACE\n",
    "svd = 50  # start vocabulary display\n",
    "mvd = 20  # maximum vocabulary display\n",
    "\n",
    "X = vocab.__getitem__(vocab_list)\n",
    "pca = PCA(n_components=2)\n",
    "result = pca.fit_transform(X)\n",
    "\n",
    "plt.scatter(result[svd:svd+mvd,0], result[svd:svd+mvd,1])\n",
    "for i, word in enumerate(vocab_list[svd:svd+mvd]):\n",
    "    plt.annotate(text=word, xy=(result[svd+i,0], result[svd+i,1]))\n",
    "plt.title(f'Vectorized vocabulary from {svd} up to {svd+mvd}')\n",
    "plt.show()"
   ]
  },
  {
   "cell_type": "markdown",
   "metadata": {},
   "source": [
    "# /TESTS/"
   ]
  }
 ],
 "metadata": {
  "kernelspec": {
   "display_name": "py312",
   "language": "python",
   "name": "python3"
  },
  "language_info": {
   "codemirror_mode": {
    "name": "ipython",
    "version": 3
   },
   "file_extension": ".py",
   "mimetype": "text/x-python",
   "name": "python",
   "nbconvert_exporter": "python",
   "pygments_lexer": "ipython3",
   "version": "3.12.2"
  }
 },
 "nbformat": 4,
 "nbformat_minor": 2
}
