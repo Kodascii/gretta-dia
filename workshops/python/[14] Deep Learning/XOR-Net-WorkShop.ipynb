{
 "cells": [
  {
   "cell_type": "markdown",
   "metadata": {},
   "source": [
    "# XOR Prediction Neural Network\n",
    "#### A simple neural network which will learn the XOR logic gate.\n",
    "\n",
    "I will provide you with any links necessary so that you can read about the different aspects of this NN(Neural Network)."
   ]
  },
  {
   "attachments": {
    "nn_pic.png": {
     "image/png": "[encoded data removed]"
    }
   },
   "cell_type": "markdown",
   "metadata": {},
   "source": [
    "## Neural Network Info\n",
    "\n",
    "#### All information regarding the neural network:\n",
    "\n",
    "- Input Layer Units = 2 (Can be modified)\n",
    "- Hidden Layer Units = 2 (Can be modified)\n",
    "- Output Layer Units = 1 (Since this is problem specific, it can't be modified)\n",
    "\n",
    "- No. of hidden layers = 1\n",
    "- Learning Algorithm = Backpropagation\n",
    "\n",
    "![nn_pic.png](attachment:nn_pic.png)\n",
    "\n",
    "Feel free to mess around with it and try out different things."
   ]
  },
  {
   "cell_type": "code",
   "execution_count": 45,
   "metadata": {},
   "outputs": [],
   "source": [
    "import numpy as np # For matrix math\n",
    "import matplotlib.pyplot as plt # For plotting\n",
    "\n",
    "import sys # For printing"
   ]
  },
  {
   "cell_type": "markdown",
   "metadata": {},
   "source": [
    "### Neural Network Implementation\n",
    "Initially, I was going to approach this in an Object Oriented manner but I think that it would be much easier to read and implement, functionally. So, let's get started."
   ]
  },
  {
   "cell_type": "markdown",
   "metadata": {},
   "source": [
    "### Training Data\n",
    "\n",
    "The XOR logic gate returns true when the number of inputs given is odd and false when they're even. Here is the simple training dataset."
   ]
  },
  {
   "cell_type": "code",
   "execution_count": 46,
   "metadata": {},
   "outputs": [],
   "source": [
    "# The training data.\n",
    "X = np.array([\n",
    "    [0, 1],\n",
    "    [1, 0],\n",
    "    [1, 1],\n",
    "    [0, 0]\n",
    "])\n",
    "\n",
    "# The labels for the training data.\n",
    "y = np.array([\n",
    "    [1],\n",
    "    [1],\n",
    "    [0],\n",
    "    [0]\n",
    "])"
   ]
  },
  {
   "cell_type": "code",
   "execution_count": 47,
   "metadata": {},
   "outputs": [
    {
     "data": {
      "text/plain": [
       "array([[0, 1],\n",
       "       [1, 0],\n",
       "       [1, 1],\n",
       "       [0, 0]])"
      ]
     },
     "execution_count": 47,
     "metadata": {},
     "output_type": "execute_result"
    }
   ],
   "source": [
    "X"
   ]
  },
  {
   "cell_type": "code",
   "execution_count": 48,
   "metadata": {},
   "outputs": [
    {
     "data": {
      "text/plain": [
       "array([[1],\n",
       "       [1],\n",
       "       [0],\n",
       "       [0]])"
      ]
     },
     "execution_count": 48,
     "metadata": {},
     "output_type": "execute_result"
    }
   ],
   "source": [
    "y"
   ]
  },
  {
   "cell_type": "markdown",
   "metadata": {},
   "source": [
    "### Additional Parameters\n",
    "These are just additional parameters which are required by the weights for their dimensions."
   ]
  },
  {
   "cell_type": "code",
   "execution_count": 49,
   "metadata": {},
   "outputs": [],
   "source": [
    "num_i_units = 2 # Number of Input units\n",
    "num_h_units = 32 # Number of Hidden units\n",
    "num_o_units = 1 # Number of Output units"
   ]
  },
  {
   "cell_type": "markdown",
   "metadata": {},
   "source": [
    "### Neural Network Parameters\n",
    "These are the parameters required directly by the NN. Comments should describe the variables."
   ]
  },
  {
   "cell_type": "code",
   "execution_count": 50,
   "metadata": {},
   "outputs": [],
   "source": [
    "# The learning rate for Gradient Descent.\n",
    "learning_rate = 0.95\n",
    "\n",
    "# The parameter to help with overfitting.\n",
    "reg_param = 0\n",
    "\n",
    "# Maximum iterations for Gradient Descent.\n",
    "max_iter = 30000\n",
    "\n",
    "# Number of training examples\n",
    "m = 4"
   ]
  },
  {
   "cell_type": "markdown",
   "metadata": {},
   "source": [
    "### Weights and Biases\n",
    "These are the numbers the NN needs to learn to make accurate predictions.\n",
    "\n",
    "For the connections being made from the input layer to the hidden layer, the weights and biases are arranged in the following order: **each row contains the weights for each hidden unit**. Then, the shape of these set of weights is: *(number of hidden units X number of input units)* and the shape of the biases for this connection will be: *(number of hidden units X 1)*.\n",
    "\n",
    "So, the overall shape of the weights and biases are:\n",
    "\n",
    "**Weights1(Connection from input to hidden layers)**: num_h_units X num_i_units\n",
    "**Biases1(Connection from input to hidden layers)**: num_h_units X 1\n",
    "\n",
    "**Weights2(Connection from hidden to output layers)**: num_o_units X num_h_units\n",
    "**Biases2(Connection from hidden to output layers)**: num_o_units X 1\n",
    "\n",
    "### Generating the Weights\n",
    "\n",
    "The weights here are going to be generated using a [Normal Distribution(Gaussian Distribution)](http://mathworld.wolfram.com/NormalDistribution.html). They will also be seeded so that the outcome always comes out the same."
   ]
  },
  {
   "cell_type": "code",
   "execution_count": 51,
   "metadata": {},
   "outputs": [],
   "source": [
    "np.random.seed(1)\n",
    "W1 = np.random.normal(0, 1, (num_h_units, num_i_units)) # 2x2\n",
    "W2 = np.random.normal(0, 1, (num_o_units, num_h_units)) # 1x2\n",
    "\n",
    "B1 = np.random.random((num_h_units, 1)) # 2x1\n",
    "B2 = np.random.random((num_o_units, 1)) # 1x1"
   ]
  },
  {
   "cell_type": "code",
   "execution_count": 52,
   "metadata": {},
   "outputs": [
    {
     "data": {
      "text/plain": [
       "array([[ 1.62434536, -0.61175641],\n",
       "       [-0.52817175, -1.07296862],\n",
       "       [ 0.86540763, -2.3015387 ],\n",
       "       [ 1.74481176, -0.7612069 ],\n",
       "       [ 0.3190391 , -0.24937038],\n",
       "       [ 1.46210794, -2.06014071],\n",
       "       [-0.3224172 , -0.38405435],\n",
       "       [ 1.13376944, -1.09989127],\n",
       "       [-0.17242821, -0.87785842],\n",
       "       [ 0.04221375,  0.58281521],\n",
       "       [-1.10061918,  1.14472371],\n",
       "       [ 0.90159072,  0.50249434],\n",
       "       [ 0.90085595, -0.68372786],\n",
       "       [-0.12289023, -0.93576943],\n",
       "       [-0.26788808,  0.53035547],\n",
       "       [-0.69166075, -0.39675353],\n",
       "       [-0.6871727 , -0.84520564],\n",
       "       [-0.67124613, -0.0126646 ],\n",
       "       [-1.11731035,  0.2344157 ],\n",
       "       [ 1.65980218,  0.74204416],\n",
       "       [-0.19183555, -0.88762896],\n",
       "       [-0.74715829,  1.6924546 ],\n",
       "       [ 0.05080775, -0.63699565],\n",
       "       [ 0.19091548,  2.10025514],\n",
       "       [ 0.12015895,  0.61720311],\n",
       "       [ 0.30017032, -0.35224985],\n",
       "       [-1.1425182 , -0.34934272],\n",
       "       [-0.20889423,  0.58662319],\n",
       "       [ 0.83898341,  0.93110208],\n",
       "       [ 0.28558733,  0.88514116],\n",
       "       [-0.75439794,  1.25286816],\n",
       "       [ 0.51292982, -0.29809284]])"
      ]
     },
     "execution_count": 52,
     "metadata": {},
     "output_type": "execute_result"
    }
   ],
   "source": [
    "W1"
   ]
  },
  {
   "cell_type": "code",
   "execution_count": 53,
   "metadata": {},
   "outputs": [
    {
     "data": {
      "text/plain": [
       "array([[ 0.48851815, -0.07557171,  1.13162939,  1.51981682,  2.18557541,\n",
       "        -1.39649634, -1.44411381, -0.50446586,  0.16003707,  0.87616892,\n",
       "         0.31563495, -2.02220122, -0.30620401,  0.82797464,  0.23009474,\n",
       "         0.76201118, -0.22232814, -0.20075807,  0.18656139,  0.41005165,\n",
       "         0.19829972,  0.11900865, -0.67066229,  0.37756379,  0.12182127,\n",
       "         1.12948391,  1.19891788,  0.18515642, -0.37528495, -0.63873041,\n",
       "         0.42349435,  0.07734007]])"
      ]
     },
     "execution_count": 53,
     "metadata": {},
     "output_type": "execute_result"
    }
   ],
   "source": [
    "W2"
   ]
  },
  {
   "cell_type": "code",
   "execution_count": 54,
   "metadata": {},
   "outputs": [
    {
     "data": {
      "text/plain": [
       "array([[0.56103022],\n",
       "       [0.01864729],\n",
       "       [0.80063267],\n",
       "       [0.23297427],\n",
       "       [0.8071052 ],\n",
       "       [0.38786064],\n",
       "       [0.86354185],\n",
       "       [0.74712164],\n",
       "       [0.55624023],\n",
       "       [0.13645523],\n",
       "       [0.05991769],\n",
       "       [0.12134346],\n",
       "       [0.04455188],\n",
       "       [0.10749413],\n",
       "       [0.22570934],\n",
       "       [0.71298898],\n",
       "       [0.55971698],\n",
       "       [0.01255598],\n",
       "       [0.07197428],\n",
       "       [0.96727633],\n",
       "       [0.56810046],\n",
       "       [0.20329323],\n",
       "       [0.25232574],\n",
       "       [0.74382585],\n",
       "       [0.19542948],\n",
       "       [0.58135893],\n",
       "       [0.97001999],\n",
       "       [0.8468288 ],\n",
       "       [0.23984776],\n",
       "       [0.49376971],\n",
       "       [0.61995572],\n",
       "       [0.8289809 ]])"
      ]
     },
     "execution_count": 54,
     "metadata": {},
     "output_type": "execute_result"
    }
   ],
   "source": [
    "B1"
   ]
  },
  {
   "cell_type": "code",
   "execution_count": 55,
   "metadata": {},
   "outputs": [
    {
     "data": {
      "text/plain": [
       "array([[0.15679139]])"
      ]
     },
     "execution_count": 55,
     "metadata": {},
     "output_type": "execute_result"
    }
   ],
   "source": [
    "B2"
   ]
  },
  {
   "attachments": {
    "sigmoid-curve.png": {
     "image/png": "[encoded data removed]"
    }
   },
   "cell_type": "markdown",
   "metadata": {},
   "source": [
    "### Sigmoid Function\n",
    "[This](http://mathworld.wolfram.com/SigmoidFunction.html) function maps any input to a value between 0 and 1.\n",
    "\n",
    "![sigmoid-curve.png](attachment:sigmoid-curve.png)\n",
    "\n",
    "In my implementation, I have added a boolean which if set to true, will return [Sigmoid Prime(the derivative of the sigmoid function)](http://www.ai.mit.edu/courses/6.892/lecture8-html/sld015.htm) of the input value. This will be used in backpropagation later on."
   ]
  },
  {
   "cell_type": "code",
   "execution_count": 56,
   "metadata": {},
   "outputs": [],
   "source": [
    "def sigmoid(z, derv=False):\n",
    "    if derv: return z * (1 - z)\n",
    "    return 1 / (1 + np.exp(-z))"
   ]
  },
  {
   "cell_type": "markdown",
   "metadata": {},
   "source": [
    "### Forward Propagation\n",
    "[This](https://en.wikipedia.org/wiki/Feedforward_neural_network) is how predictions are made. Propagating the input through the NN to get the output.\n",
    "\n",
    "In my implementation, the forward function only accepts a feature vector as row vector which is then converted to a column vector. Also, the predict boolean, if set to true, only returns the output. Otherwise, it returns a tuple of the outputs of all the layers."
   ]
  },
  {
   "cell_type": "code",
   "execution_count": 57,
   "metadata": {},
   "outputs": [],
   "source": [
    "def forward(x, predict=False):\n",
    "    a1 = x.reshape(x.shape[0], 1) # Getting the training example as a column vector.\n",
    "\n",
    "    z2 = W1.dot(a1) + B1 # 2x2 * 2x1 + 2x1 = 2x1\n",
    "    a2 = sigmoid(z2)     # 2x1\n",
    "\n",
    "    z3 = W2.dot(a2) + B2 # 1x2 * 2x1 + 1x1 = 1x1\n",
    "    a3 = sigmoid(z3)\n",
    "\n",
    "    if predict: return a3\n",
    "    return (a1, a2, a3)"
   ]
  },
  {
   "cell_type": "markdown",
   "metadata": {},
   "source": [
    "### Gradients for the Weights and Biases\n",
    "These variables will contain the gradients for the weights and biases which will be used by gradient descent to update the weights and biases.\n",
    "\n",
    "Also, creating the vector which will be storing the cost values for each gradient descent iteration to help visualize the cost as the weights and biases are updated."
   ]
  },
  {
   "cell_type": "code",
   "execution_count": 58,
   "metadata": {},
   "outputs": [],
   "source": [
    "dW1 = 0 # Gradient for W1\n",
    "dW2 = 0 # Gradient for W2\n",
    "\n",
    "dB1 = 0 # Gradient for B1\n",
    "dB2 = 0 # Gradient for B2\n",
    "\n",
    "cost = np.zeros((max_iter, 1)) # Column vector to record the cost of the NN after each Gradient Descent iteration."
   ]
  },
  {
   "cell_type": "markdown",
   "metadata": {},
   "source": [
    "## Training\n",
    "This is the training function which contains the meat of NN. This contains forward propagation and [Backpropagation](http://neuralnetworksanddeeplearning.com/chap2.html).\n",
    "\n",
    "### Backpropagation\n",
    "The process of propagating the error in the output layer, backwards through the NN to calculate the error in each layer. Intuition: It's like forward propagation, but backwards.\n",
    "\n",
    "Steps(for this NN):\n",
    "1. Calculate the error in the output layer(dz2).\n",
    "2. Calculate the error in the weights connecting the hidden layer to the output layer using dz2 (dW2).\n",
    "3. Calculate the error in the hidden layer(dz1).\n",
    "4. Calculate the error in the weights connecting the input layer to the hidden layer using dz1 (dW1).\n",
    "5. The errors in the biases are just the errors in the respective layers.\n",
    "\n",
    "Afterwards, the gradients(errors) of the weights and biases are used to update the corresponding weights and biases by multiplying them with the negative of the learning rate and scaling it by divinding it by the number of training examples.\n",
    "\n",
    "While iterating over all the training examples, the cost is also being calculated simultaneously for each example. Then, a regurlization parameter is added, although for such a small dataset, regularization is unnecessary since to perform well, the NN will have to over fit to the training data."
   ]
  },
  {
   "cell_type": "code",
   "execution_count": 59,
   "metadata": {},
   "outputs": [],
   "source": [
    "def train(_W1, _W2, _B1, _B2): # The arguments are to bypass UnboundLocalError error\n",
    "    for i in range(max_iter):\n",
    "        c = 0\n",
    "        \n",
    "        dW1 = 0\n",
    "        dW2 = 0\n",
    "\n",
    "        dB1 = 0\n",
    "        dB2 = 0\n",
    "        \n",
    "        for j in range(m):\n",
    "            sys.stdout.write(\"\\rIteration: {} and {}\".format(i + 1, j + 1))\n",
    "\n",
    "            # Forward Prop.\n",
    "            a0 = X[j].reshape(X[j].shape[0], 1) # 2x1\n",
    "\n",
    "            z1 = _W1.dot(a0) + _B1 # 2x2 * 2x1 + 2x1 = 2x1\n",
    "            a1 = sigmoid(z1) # 2x1\n",
    "\n",
    "            z2 = _W2.dot(a1) + _B2 # 1x2 * 2x1 + 1x1 = 1x1\n",
    "            a2 = sigmoid(z2) # 1x1\n",
    "\n",
    "            # Back prop.\n",
    "            dz2 = a2 - y[j] # 1x1\n",
    "            dW2 += dz2 * a1.T # 1x1 .* 1x2 = 1x2\n",
    "\n",
    "            dz1 = np.multiply((_W2.T * dz2), sigmoid(a1, derv=True)) # (2x1 * 1x1) .* 2x1 = 2x1\n",
    "            dW1 += dz1.dot(a0.T) # 2x1 * 1x2 = 2x2\n",
    "\n",
    "            dB1 += dz1 # 2x1\n",
    "            dB2 += dz2 # 1x1\n",
    "\n",
    "            c = c + (-(y[j] * np.log(a2)) - ((1 - y[j]) * np.log(1 - a2)))\n",
    "            sys.stdout.flush() # Updating the text.\n",
    "        \n",
    "        _W1 = _W1 - learning_rate * (dW1 / m) + ((reg_param / m) * _W1)\n",
    "        _W2 = _W2 - learning_rate * (dW2 / m) + ((reg_param / m) * _W2)\n",
    "\n",
    "        _B1 = _B1 - learning_rate * (dB1 / m)\n",
    "        _B2 = _B2 - learning_rate * (dB2 / m)\n",
    "        cost[i] = (c / m) + ( \n",
    "            (reg_param / (2 * m)) * \n",
    "            (\n",
    "                np.sum(np.power(_W1, 2)) + \n",
    "                np.sum(np.power(_W2, 2))\n",
    "            )\n",
    "        )\n",
    "    return (_W1, _W2, _B1, _B2)"
   ]
  },
  {
   "cell_type": "markdown",
   "metadata": {},
   "source": [
    "## Running\n",
    "Now, let's try out the NN. Here, I have called the train() function. You can make any changes you like and then run all the kernels again. I have also plotted the cost function to visual how the NN performed.\n",
    "\n",
    "The console printing might be off.\n",
    "\n",
    "The weights and biases are then shown."
   ]
  },
  {
   "cell_type": "code",
   "execution_count": 60,
   "metadata": {},
   "outputs": [
    {
     "name": "stdout",
     "output_type": "stream",
     "text": [
      "Iteration: 30000 and 4"
     ]
    }
   ],
   "source": [
    "W1, W2, B1, B2 = train(W1, W2, B1, B2)"
   ]
  },
  {
   "cell_type": "code",
   "execution_count": 61,
   "metadata": {},
   "outputs": [
    {
     "data": {
      "text/plain": [
       "array([[ 1.09853788, -1.10356496],\n",
       "       [-2.19634225, -2.33858876],\n",
       "       [ 5.08278322, -6.17677028],\n",
       "       [ 4.83461737, -5.78580027],\n",
       "       [-0.60452746, -0.95735937],\n",
       "       [ 7.01566482, -6.10981447],\n",
       "       [-2.30176709, -2.30484463],\n",
       "       [ 4.65861866, -3.69682065],\n",
       "       [-0.31488313, -1.0786095 ],\n",
       "       [-0.54528462,  0.12822254],\n",
       "       [-3.13157237,  2.07954311],\n",
       "       [ 0.97967828,  0.43661622],\n",
       "       [ 0.60785588, -1.05192298],\n",
       "       [ 0.6266402 , -1.82355934],\n",
       "       [-0.7050264 ,  0.23086963],\n",
       "       [-0.91346188, -0.60957579],\n",
       "       [-2.67431087, -2.71929958],\n",
       "       [-0.93910805, -0.48477373],\n",
       "       [-1.52035902,  0.35864432],\n",
       "       [ 3.62792373,  3.57230589],\n",
       "       [-0.31337037, -1.08623488],\n",
       "       [-1.48878717,  2.82578618],\n",
       "       [-0.98566139, -1.23715033],\n",
       "       [ 2.19971326,  2.7272615 ],\n",
       "       [-0.20954044,  0.3172316 ],\n",
       "       [ 0.07051616, -1.1933047 ],\n",
       "       [-1.51256492, -1.05794546],\n",
       "       [-0.59079186,  0.23819658],\n",
       "       [ 0.48937739,  0.62932009],\n",
       "       [-0.14585106,  1.0434878 ],\n",
       "       [-0.95645424,  1.0501919 ],\n",
       "       [ 0.09558485, -0.726458  ]])"
      ]
     },
     "execution_count": 61,
     "metadata": {},
     "output_type": "execute_result"
    }
   ],
   "source": [
    "W1"
   ]
  },
  {
   "cell_type": "code",
   "execution_count": 62,
   "metadata": {},
   "outputs": [
    {
     "data": {
      "text/plain": [
       "array([[  0.28837754,  -2.02814577,   8.99452704,   8.24779132,\n",
       "          2.20488185, -11.69820172,  -2.28378776,  -5.51248819,\n",
       "          0.53970345,   0.8018975 ,   2.95720191,  -1.71329604,\n",
       "          0.46067189,   1.52927069,   0.48210065,   1.17368747,\n",
       "         -2.60866077,  -0.07780031,   0.9085276 ,   4.41930021,\n",
       "          0.58015983,  -2.04994302,  -0.63784609,   2.32945474,\n",
       "          0.13157761,   1.35776419,   2.14283884,   0.27511074,\n",
       "         -0.40650632,  -0.73949921,  -0.03131405,   0.41640506]])"
      ]
     },
     "execution_count": 62,
     "metadata": {},
     "output_type": "execute_result"
    }
   ],
   "source": [
    "W2"
   ]
  },
  {
   "cell_type": "code",
   "execution_count": 63,
   "metadata": {},
   "outputs": [
    {
     "data": {
      "text/plain": [
       "array([[-0.36417207],\n",
       "       [-0.13124294],\n",
       "       [-2.52064132],\n",
       "       [-2.44875166],\n",
       "       [ 0.84584005],\n",
       "       [ 3.05799377],\n",
       "       [-0.09159333],\n",
       "       [ 1.87948257],\n",
       "       [ 0.26823117],\n",
       "       [-0.37685108],\n",
       "       [-1.11630437],\n",
       "       [-0.67915888],\n",
       "       [-0.36796821],\n",
       "       [-0.36393689],\n",
       "       [-0.28717161],\n",
       "       [ 0.82252761],\n",
       "       [ 0.20557227],\n",
       "       [-0.42839727],\n",
       "       [-0.22650843],\n",
       "       [-0.84548714],\n",
       "       [ 0.30405709],\n",
       "       [ 0.7352538 ],\n",
       "       [-0.49090253],\n",
       "       [ 0.02893201],\n",
       "       [-0.33499281],\n",
       "       [ 0.03703457],\n",
       "       [ 1.84938582],\n",
       "       [ 0.2509176 ],\n",
       "       [-0.43760882],\n",
       "       [ 0.04305959],\n",
       "       [ 0.12591409],\n",
       "       [ 0.24393818]])"
      ]
     },
     "execution_count": 63,
     "metadata": {},
     "output_type": "execute_result"
    }
   ],
   "source": [
    "B1"
   ]
  },
  {
   "cell_type": "code",
   "execution_count": 64,
   "metadata": {},
   "outputs": [
    {
     "data": {
      "text/plain": [
       "array([[0.41248567]])"
      ]
     },
     "execution_count": 64,
     "metadata": {},
     "output_type": "execute_result"
    }
   ],
   "source": [
    "B2"
   ]
  },
  {
   "cell_type": "markdown",
   "metadata": {},
   "source": [
    "### Plotting\n",
    "Now, let's plot a simple plot showing the cost function with respect to the number of iterations of gradient descent."
   ]
  },
  {
   "cell_type": "code",
   "execution_count": 65,
   "metadata": {},
   "outputs": [
    {
     "data": {
      "image/png": "[encoded data removed]",
      "text/plain": [
       "<Figure size 640x480 with 1 Axes>"
      ]
     },
     "metadata": {},
     "output_type": "display_data"
    }
   ],
   "source": [
    "# Assigning the axes to the different elements.\n",
    "plt.plot(range(max_iter), cost)\n",
    "\n",
    "# Labelling the x axis as the iterations axis.\n",
    "plt.xlabel(\"Iterations\")\n",
    "\n",
    "# Labelling the y axis as the cost axis.\n",
    "plt.ylabel(\"Cost\")\n",
    "\n",
    "# Showing the plot.\n",
    "plt.show()"
   ]
  },
  {
   "cell_type": "markdown",
   "metadata": {},
   "source": [
    "## Observation\n",
    "With the initial parameters, the cost function doesn't look that good. It is decreasing which is a good sign but it isn't flattening out. I have tried, multiple different values but this some seems like the best fit.\n",
    "\n",
    "Try out your own values, run the notebook again and see what you get."
   ]
  },
  {
   "cell_type": "code",
   "execution_count": 66,
   "metadata": {},
   "outputs": [
    {
     "name": "stdout",
     "output_type": "stream",
     "text": [
      "[[8.35781011e-05]] [[0.9998751]] [[0.99988032]] [[0.00015884]]\n"
     ]
    }
   ],
   "source": [
    "_y1 = forward(np.array([0, 0]), predict=True)\n",
    "_y2 = forward(np.array([0, 1]), predict=True)\n",
    "_y3 = forward(np.array([1, 0]), predict=True)\n",
    "_y4 = forward(np.array([1, 1]), predict=True)\n",
    "print(_y1, _y2, _y3, _y4)\n",
    "# 0.07 : [[0.01372459]] [[0.97924149]] [[0.97992626]] [[0.02045886]]\n",
    "# 0.15 : [[0.0075913]] [[0.98943795]] [[0.98973382]] [[0.00970524]]\n",
    "# 0.2  : [[0.00521864]] [[0.99295565]] [[0.99312776]] [[0.00629069]]\n",
    "# 0.5  : [[0.00179542]] [[0.9976799]] [[0.9977161]] [[0.00197928]]\n",
    "# 0.8  : [[0.00108021]] [[0.99861766]] [[0.99863482]] [[0.00116572]]\n",
    "# 0.9  : [[0.00095329]] [[0.9987823]] [[0.99879657]] [[0.00102455]]\n",
    "# 0.95 : [[0.00090035]] [[0.9988508]] [[0.99886392]] [[0.00096598]]\n",
    "# 0.95 : [[0.000753]] [[0.99791957]] [[0.99824396]] [[0.00273439]]\n",
    "#        [[0.00060137]] [[0.99919212]] [[0.99916763]] [[0.00093029]]\n",
    "\n",
    "# 1.0  : [[0.00085297]] [[0.99891204]] [[0.99892415]] [[0.0009137]]\n",
    "\n",
    "# 0.95 & 15000 : [[0.00058911]] [[0.99925151]] [[0.99925865]] [[0.00062523]]"
   ]
  }
 ],
 "metadata": {
  "kernelspec": {
   "display_name": "Python 3 (ipykernel)",
   "language": "python",
   "name": "python3"
  },
  "language_info": {
   "codemirror_mode": {
    "name": "ipython",
    "version": 3
   },
   "file_extension": ".py",
   "mimetype": "text/x-python",
   "name": "python",
   "nbconvert_exporter": "python",
   "pygments_lexer": "ipython3",
   "version": "3.12.2"
  }
 },
 "nbformat": 4,
 "nbformat_minor": 2
}
