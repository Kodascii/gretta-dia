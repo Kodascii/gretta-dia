{
 "cells": [
  {
   "cell_type": "markdown",
   "metadata": {},
   "source": [
    "# Naîve Bayes"
   ]
  },
  {
   "cell_type": "markdown",
   "metadata": {},
   "source": [
    "## [Workshop 1](https://machinelearningmastery.com/naive-bayes-classifier-scratch-python/)\n",
    "\n",
    "### 0x000 Init"
   ]
  },
  {
   "cell_type": "code",
   "execution_count": 82,
   "metadata": {},
   "outputs": [],
   "source": [
    "from math import pi, sqrt, exp\n",
    "from csv import reader\n",
    "from random import seed, randrange\n",
    "\n",
    "# Load a CSV file\n",
    "def load_csv(filename):\n",
    "\tdataset = list()\n",
    "\twith open(filename, 'r') as file:\n",
    "\t\tcsv_reader = reader(file)\n",
    "\t\tfor row in csv_reader:\n",
    "\t\t\tif not row:\n",
    "\t\t\t\tcontinue\n",
    "\t\t\tdataset.append(row)\n",
    "\treturn dataset\n",
    "\n",
    "iris_data = load_csv('./iris.csv')\n",
    "test_dataset = [\n",
    "    [3.393533211,2.331273381,0],\n",
    "    [3.110073483,1.781539638,0],\n",
    "    [1.343808831,3.368360954,0],\n",
    "    [3.582294042,4.67917911,0],\n",
    "    [2.280362439,2.866990263,0],\n",
    "    [7.423436942,4.696522875,1],\n",
    "    [5.745051997,3.533989803,1],\n",
    "    [9.172168622,2.511101045,1],\n",
    "    [7.792783481,3.424088941,1],\n",
    "    [7.939820817,0.791637231,1]\n",
    "]"
   ]
  },
  {
   "cell_type": "markdown",
   "metadata": {},
   "source": [
    "### 0x200 Iris Data Normalization"
   ]
  },
  {
   "cell_type": "code",
   "execution_count": 83,
   "metadata": {},
   "outputs": [
    {
     "data": {
      "text/plain": [
       "{'Iris-setosa': 0, 'Iris-virginica': 1, 'Iris-versicolor': 2}"
      ]
     },
     "execution_count": 83,
     "metadata": {},
     "output_type": "execute_result"
    }
   ],
   "source": [
    "# Convert string column to float\n",
    "def str_column_to_float(dataset, column):\n",
    "\tfor row in dataset:\n",
    "\t\trow[column] = float(row[column].strip())\n",
    "\n",
    "# Convert string column to integer\n",
    "def str_column_to_int(dataset, column):\n",
    "\tclass_values = [row[column] for row in dataset]\n",
    "\tunique = set(class_values)\n",
    "\tlookup = dict()\n",
    "\tfor i, value in enumerate(unique):\n",
    "\t\tlookup[value] = i\n",
    "\tfor row in dataset:\n",
    "\t\trow[column] = lookup[row[column]]\n",
    "\treturn lookup\n",
    "\n",
    "for i in range(len(iris_data[0])-1):\n",
    "\tstr_column_to_float(iris_data, i)\n",
    "\t\n",
    "# convert class column to integers\n",
    "str_column_to_int(iris_data, len(iris_data[0])-1)"
   ]
  },
  {
   "cell_type": "markdown",
   "metadata": {},
   "source": [
    "### 0x300 Seperate By Class"
   ]
  },
  {
   "cell_type": "code",
   "execution_count": 84,
   "metadata": {},
   "outputs": [
    {
     "name": "stdout",
     "output_type": "stream",
     "text": [
      "0\n",
      "[5.1, 3.5, 1.4, 0.2]\n",
      "[4.9, 3.0, 1.4, 0.2]\n",
      "[4.7, 3.2, 1.3, 0.2]\n",
      "[4.6, 3.1, 1.5, 0.2]\n",
      "[5.0, 3.6, 1.4, 0.2]\n",
      "[5.4, 3.9, 1.7, 0.4]\n",
      "[4.6, 3.4, 1.4, 0.3]\n",
      "[5.0, 3.4, 1.5, 0.2]\n",
      "[4.4, 2.9, 1.4, 0.2]\n",
      "[4.9, 3.1, 1.5, 0.1]\n",
      "[5.4, 3.7, 1.5, 0.2]\n",
      "[4.8, 3.4, 1.6, 0.2]\n",
      "[4.8, 3.0, 1.4, 0.1]\n",
      "[4.3, 3.0, 1.1, 0.1]\n",
      "[5.8, 4.0, 1.2, 0.2]\n",
      "[5.7, 4.4, 1.5, 0.4]\n",
      "[5.4, 3.9, 1.3, 0.4]\n",
      "[5.1, 3.5, 1.4, 0.3]\n",
      "[5.7, 3.8, 1.7, 0.3]\n",
      "[5.1, 3.8, 1.5, 0.3]\n",
      "[5.4, 3.4, 1.7, 0.2]\n",
      "[5.1, 3.7, 1.5, 0.4]\n",
      "[4.6, 3.6, 1.0, 0.2]\n",
      "[5.1, 3.3, 1.7, 0.5]\n",
      "[4.8, 3.4, 1.9, 0.2]\n",
      "[5.0, 3.0, 1.6, 0.2]\n",
      "[5.0, 3.4, 1.6, 0.4]\n",
      "[5.2, 3.5, 1.5, 0.2]\n",
      "[5.2, 3.4, 1.4, 0.2]\n",
      "[4.7, 3.2, 1.6, 0.2]\n",
      "[4.8, 3.1, 1.6, 0.2]\n",
      "[5.4, 3.4, 1.5, 0.4]\n",
      "[5.2, 4.1, 1.5, 0.1]\n",
      "[5.5, 4.2, 1.4, 0.2]\n",
      "[4.9, 3.1, 1.5, 0.1]\n",
      "[5.0, 3.2, 1.2, 0.2]\n",
      "[5.5, 3.5, 1.3, 0.2]\n",
      "[4.9, 3.1, 1.5, 0.1]\n",
      "[4.4, 3.0, 1.3, 0.2]\n",
      "[5.1, 3.4, 1.5, 0.2]\n",
      "[5.0, 3.5, 1.3, 0.3]\n",
      "[4.5, 2.3, 1.3, 0.3]\n",
      "[4.4, 3.2, 1.3, 0.2]\n",
      "[5.0, 3.5, 1.6, 0.6]\n",
      "[5.1, 3.8, 1.9, 0.4]\n",
      "[4.8, 3.0, 1.4, 0.3]\n",
      "[5.1, 3.8, 1.6, 0.2]\n",
      "[4.6, 3.2, 1.4, 0.2]\n",
      "[5.3, 3.7, 1.5, 0.2]\n",
      "[5.0, 3.3, 1.4, 0.2]\n",
      "2\n",
      "[7.0, 3.2, 4.7, 1.4]\n",
      "[6.4, 3.2, 4.5, 1.5]\n",
      "[6.9, 3.1, 4.9, 1.5]\n",
      "[5.5, 2.3, 4.0, 1.3]\n",
      "[6.5, 2.8, 4.6, 1.5]\n",
      "[5.7, 2.8, 4.5, 1.3]\n",
      "[6.3, 3.3, 4.7, 1.6]\n",
      "[4.9, 2.4, 3.3, 1.0]\n",
      "[6.6, 2.9, 4.6, 1.3]\n",
      "[5.2, 2.7, 3.9, 1.4]\n",
      "[5.0, 2.0, 3.5, 1.0]\n",
      "[5.9, 3.0, 4.2, 1.5]\n",
      "[6.0, 2.2, 4.0, 1.0]\n",
      "[6.1, 2.9, 4.7, 1.4]\n",
      "[5.6, 2.9, 3.6, 1.3]\n",
      "[6.7, 3.1, 4.4, 1.4]\n",
      "[5.6, 3.0, 4.5, 1.5]\n",
      "[5.8, 2.7, 4.1, 1.0]\n",
      "[6.2, 2.2, 4.5, 1.5]\n",
      "[5.6, 2.5, 3.9, 1.1]\n",
      "[5.9, 3.2, 4.8, 1.8]\n",
      "[6.1, 2.8, 4.0, 1.3]\n",
      "[6.3, 2.5, 4.9, 1.5]\n",
      "[6.1, 2.8, 4.7, 1.2]\n",
      "[6.4, 2.9, 4.3, 1.3]\n",
      "[6.6, 3.0, 4.4, 1.4]\n",
      "[6.8, 2.8, 4.8, 1.4]\n",
      "[6.7, 3.0, 5.0, 1.7]\n",
      "[6.0, 2.9, 4.5, 1.5]\n",
      "[5.7, 2.6, 3.5, 1.0]\n",
      "[5.5, 2.4, 3.8, 1.1]\n",
      "[5.5, 2.4, 3.7, 1.0]\n",
      "[5.8, 2.7, 3.9, 1.2]\n",
      "[6.0, 2.7, 5.1, 1.6]\n",
      "[5.4, 3.0, 4.5, 1.5]\n",
      "[6.0, 3.4, 4.5, 1.6]\n",
      "[6.7, 3.1, 4.7, 1.5]\n",
      "[6.3, 2.3, 4.4, 1.3]\n",
      "[5.6, 3.0, 4.1, 1.3]\n",
      "[5.5, 2.5, 4.0, 1.3]\n",
      "[5.5, 2.6, 4.4, 1.2]\n",
      "[6.1, 3.0, 4.6, 1.4]\n",
      "[5.8, 2.6, 4.0, 1.2]\n",
      "[5.0, 2.3, 3.3, 1.0]\n",
      "[5.6, 2.7, 4.2, 1.3]\n",
      "[5.7, 3.0, 4.2, 1.2]\n",
      "[5.7, 2.9, 4.2, 1.3]\n",
      "[6.2, 2.9, 4.3, 1.3]\n",
      "[5.1, 2.5, 3.0, 1.1]\n",
      "[5.7, 2.8, 4.1, 1.3]\n",
      "1\n",
      "[6.3, 3.3, 6.0, 2.5]\n",
      "[5.8, 2.7, 5.1, 1.9]\n",
      "[7.1, 3.0, 5.9, 2.1]\n",
      "[6.3, 2.9, 5.6, 1.8]\n",
      "[6.5, 3.0, 5.8, 2.2]\n",
      "[7.6, 3.0, 6.6, 2.1]\n",
      "[4.9, 2.5, 4.5, 1.7]\n",
      "[7.3, 2.9, 6.3, 1.8]\n",
      "[6.7, 2.5, 5.8, 1.8]\n",
      "[7.2, 3.6, 6.1, 2.5]\n",
      "[6.5, 3.2, 5.1, 2.0]\n",
      "[6.4, 2.7, 5.3, 1.9]\n",
      "[6.8, 3.0, 5.5, 2.1]\n",
      "[5.7, 2.5, 5.0, 2.0]\n",
      "[5.8, 2.8, 5.1, 2.4]\n",
      "[6.4, 3.2, 5.3, 2.3]\n",
      "[6.5, 3.0, 5.5, 1.8]\n",
      "[7.7, 3.8, 6.7, 2.2]\n",
      "[7.7, 2.6, 6.9, 2.3]\n",
      "[6.0, 2.2, 5.0, 1.5]\n",
      "[6.9, 3.2, 5.7, 2.3]\n",
      "[5.6, 2.8, 4.9, 2.0]\n",
      "[7.7, 2.8, 6.7, 2.0]\n",
      "[6.3, 2.7, 4.9, 1.8]\n",
      "[6.7, 3.3, 5.7, 2.1]\n",
      "[7.2, 3.2, 6.0, 1.8]\n",
      "[6.2, 2.8, 4.8, 1.8]\n",
      "[6.1, 3.0, 4.9, 1.8]\n",
      "[6.4, 2.8, 5.6, 2.1]\n",
      "[7.2, 3.0, 5.8, 1.6]\n",
      "[7.4, 2.8, 6.1, 1.9]\n",
      "[7.9, 3.8, 6.4, 2.0]\n",
      "[6.4, 2.8, 5.6, 2.2]\n",
      "[6.3, 2.8, 5.1, 1.5]\n",
      "[6.1, 2.6, 5.6, 1.4]\n",
      "[7.7, 3.0, 6.1, 2.3]\n",
      "[6.3, 3.4, 5.6, 2.4]\n",
      "[6.4, 3.1, 5.5, 1.8]\n",
      "[6.0, 3.0, 4.8, 1.8]\n",
      "[6.9, 3.1, 5.4, 2.1]\n",
      "[6.7, 3.1, 5.6, 2.4]\n",
      "[6.9, 3.1, 5.1, 2.3]\n",
      "[5.8, 2.7, 5.1, 1.9]\n",
      "[6.8, 3.2, 5.9, 2.3]\n",
      "[6.7, 3.3, 5.7, 2.5]\n",
      "[6.7, 3.0, 5.2, 2.3]\n",
      "[6.3, 2.5, 5.0, 1.9]\n",
      "[6.5, 3.0, 5.2, 2.0]\n",
      "[6.2, 3.4, 5.4, 2.3]\n",
      "[5.9, 3.0, 5.1, 1.8]\n"
     ]
    }
   ],
   "source": [
    "# Split the dataset by class values, returns a dictionary\n",
    "def separate_by_class(dataset:list) -> dict:\n",
    "\tseparated = dict()\n",
    "\tfor i in range(len(dataset)):\n",
    "\t\tvector = dataset[i]\n",
    "\t\tclass_value = vector[-1]\n",
    "\t\tif (class_value not in separated):\n",
    "\t\t\tseparated[class_value] = list()\n",
    "\t\tseparated[class_value].append(vector[:-1])\n",
    "\n",
    "\treturn separated\n",
    "\n",
    "# -[Test]----------------------------------------------\n",
    "separated = separate_by_class(iris_data)\n",
    "for label in separated:\n",
    "\tprint(label)\n",
    "\tfor row in separated[label]:\n",
    "\t\tprint(row)"
   ]
  },
  {
   "cell_type": "markdown",
   "metadata": {},
   "source": [
    "### 0x300 Mean, Variance & Standard Deviation"
   ]
  },
  {
   "cell_type": "code",
   "execution_count": 85,
   "metadata": {},
   "outputs": [
    {
     "name": "stdout",
     "output_type": "stream",
     "text": [
      "{mean=2.5, variance=1.250, standard_deviation=1.118}\n"
     ]
    }
   ],
   "source": [
    "def mean(numbers):\n",
    "    return sum(numbers) / len(numbers)\n",
    "\n",
    "def variance(numbers, avg=None):\n",
    "    _m = mean(numbers) if avg == None else avg\n",
    "    return sum([(x - _m)**2 for x in numbers]) / len(numbers)\n",
    "\n",
    "def stdev(numbers, avg=None):\n",
    "    _mean = mean(numbers) if avg == None else avg\n",
    "    return sqrt(variance(numbers, _mean))\n",
    "\n",
    "# -[Test]----------------------------------------------\n",
    "x = [1, 2, 3, 4]\n",
    "print(f\"{{mean={mean(x)}, variance={variance(x):.3f}, standard_deviation={stdev(x):.3f}}}\")"
   ]
  },
  {
   "cell_type": "markdown",
   "metadata": {},
   "source": [
    "### 0x400 Summarize Dataset"
   ]
  },
  {
   "cell_type": "code",
   "execution_count": 86,
   "metadata": {},
   "outputs": [
    {
     "name": "stdout",
     "output_type": "stream",
     "text": [
      "[(5.843333333333335, 0.8253012917851409, 150), (3.0540000000000007, 0.4321465800705435, 150), (3.7586666666666693, 1.7585291834055201, 150), (1.1986666666666672, 0.760612618588172, 150)]\n"
     ]
    }
   ],
   "source": [
    "# Calculate the mean, stdev and count for each column in a dataset\n",
    "def summarize_dataset(dataset):\n",
    "    summaries = [(mean(column), stdev(column), len(column)) for column in zip(*dataset)]\n",
    "    del(summaries[-1])\n",
    "    return summaries\n",
    "\n",
    "# -[Test]----------------------------------------------\n",
    "summary = summarize_dataset(iris_data)\n",
    "print(summary)"
   ]
  },
  {
   "cell_type": "code",
   "execution_count": 87,
   "metadata": {},
   "outputs": [
    {
     "name": "stdout",
     "output_type": "stream",
     "text": [
      "class = 0\n",
      " - (5.005999999999999, 0.348946987377739, 50)\n",
      " - (3.4180000000000006, 0.37719490982779713, 50)\n",
      " - (1.464, 0.17176728442867115, 50)\n",
      "class = 2\n",
      " - (5.936, 0.5109833656783752, 50)\n",
      " - (2.7700000000000005, 0.31064449134018135, 50)\n",
      " - (4.26, 0.4651881339845204, 50)\n",
      "class = 1\n",
      " - (6.587999999999998, 0.6294886813914925, 50)\n",
      " - (2.9739999999999998, 0.319255383666431, 50)\n",
      " - (5.552, 0.5463478745268441, 50)\n"
     ]
    }
   ],
   "source": [
    "# Split dataset by class then calculate statistics for each row\n",
    "def summarize_by_class(dataset):\n",
    "    separated = separate_by_class(dataset)\n",
    "    summaries = dict()\n",
    "    for class_value, rows in separated.items():\n",
    "        summaries[class_value] = summarize_dataset(rows)\n",
    "    return summaries\n",
    "\n",
    "# -[Test]----------------------------------------------\n",
    "summary = summarize_by_class(iris_data)\n",
    "for label in summary:\n",
    "    print(f\"class = {label}\")\n",
    "    for row in summary[label]:\n",
    "        print(f\" - {row}\")"
   ]
  },
  {
   "cell_type": "markdown",
   "metadata": {},
   "source": [
    "### 0x500 Gaussian Probability Density Function"
   ]
  },
  {
   "cell_type": "code",
   "execution_count": 88,
   "metadata": {},
   "outputs": [
    {
     "name": "stdout",
     "output_type": "stream",
     "text": [
      "0.3989422804014327\n",
      "0.24197072451914337\n",
      "0.24197072451914337\n"
     ]
    }
   ],
   "source": [
    "def gaussian_pdf(x, mean, stdev):\n",
    "    exponent = exp(-((x - mean) ** 2 / (2 * stdev**2)))\n",
    "    return (1 / (sqrt(2 * pi) * stdev)) * exponent\n",
    "\n",
    "# -[Test]----------------------------------------------\n",
    "print(gaussian_pdf(1.0, 1.0, 1.0))\n",
    "print(gaussian_pdf(2.0, 1.0, 1.0))\n",
    "print(gaussian_pdf(0.0, 1.0, 1.0))"
   ]
  },
  {
   "cell_type": "markdown",
   "metadata": {},
   "source": [
    "### 0x600 Class Probabilities"
   ]
  },
  {
   "cell_type": "code",
   "execution_count": 91,
   "metadata": {},
   "outputs": [
    {
     "name": "stdout",
     "output_type": "stream",
     "text": [
      "{0: 0.8225776209843491, 2: 2.944966420841627e-11, 1: 8.735016114208001e-16}\n"
     ]
    }
   ],
   "source": [
    "# Calculate the probabilities of predicting each class for a given row\n",
    "def calculate_class_probabilities(summaries, row):\n",
    "\ttotal_rows = sum([summaries[label][0][2] for label in summaries])\n",
    "\tprobabilities = dict()\n",
    "\tfor class_value, class_summaries in summaries.items():\n",
    "\t\tprobabilities[class_value] = summaries[class_value][0][2]/float(total_rows)\n",
    "\t\tfor i in range(len(class_summaries)):\n",
    "\t\t\tmean, stdev, _ = class_summaries[i]\n",
    "\t\t\tprobabilities[class_value] *= gaussian_pdf(row[i], mean, stdev)\n",
    "\treturn probabilities\n",
    "\n",
    "# -[Test]----------------------------------------------\n",
    "summaries = summarize_by_class(iris_data)\n",
    "probabilities = calculate_class_probabilities(summary, iris_data[0])\n",
    "print(probabilities)"
   ]
  },
  {
   "cell_type": "markdown",
   "metadata": {},
   "source": [
    "### 0x700 Iris Flower Species Case Study"
   ]
  },
  {
   "cell_type": "code",
   "execution_count": 90,
   "metadata": {},
   "outputs": [
    {
     "name": "stdout",
     "output_type": "stream",
     "text": [
      "Scores: [80.0, 96.66666666666667, 83.33333333333334, 86.66666666666667, 96.66666666666667]\n",
      "Mean Accuracy: 88.667%\n"
     ]
    }
   ],
   "source": [
    "# Convert string column to float\n",
    "def str_column_to_float(dataset, column):\n",
    "\tfor row in dataset:\n",
    "\t\trow[column] = float(row[column].strip())\n",
    "\n",
    "# Convert string column to integer\n",
    "def str_column_to_int(dataset, column):\n",
    "\tclass_values = [row[column] for row in dataset]\n",
    "\tunique = set(class_values)\n",
    "\tlookup = dict()\n",
    "\tfor i, value in enumerate(unique):\n",
    "\t\tlookup[value] = i\n",
    "\tfor row in dataset:\n",
    "\t\trow[column] = lookup[row[column]]\n",
    "\treturn lookup\n",
    "\n",
    "# Split a dataset into k folds\n",
    "def cross_validation_split(dataset, n_folds):\n",
    "\tdataset_split = list()\n",
    "\tdataset_copy = list(dataset)\n",
    "\tfold_size = int(len(dataset) / n_folds)\n",
    "\tfor _ in range(n_folds):\n",
    "\t\tfold = list()\n",
    "\t\twhile len(fold) < fold_size:\n",
    "\t\t\tindex = randrange(len(dataset_copy))\n",
    "\t\t\tfold.append(dataset_copy.pop(index))\n",
    "\t\tdataset_split.append(fold)\n",
    "\treturn dataset_split\n",
    "\n",
    "# Calculate accuracy percentage\n",
    "def accuracy_metric(actual, predicted):\n",
    "\tcorrect = 0\n",
    "\tfor i in range(len(actual)):\n",
    "\t\tif actual[i] == predicted[i]:\n",
    "\t\t\tcorrect += 1\n",
    "\treturn correct / float(len(actual)) * 100.0\n",
    "\n",
    "# Evaluate an algorithm using a cross validation split\n",
    "def evaluate_algorithm(dataset, algorithm, n_folds, *args):\n",
    "\tfolds = cross_validation_split(dataset, n_folds)\n",
    "\tscores = list()\n",
    "\tfor fold in folds:\n",
    "\t\ttrain_set = list(folds) # copy of folds\n",
    "\t\ttrain_set.remove(fold)  # remove the current fold from copy\n",
    "\t\ttrain_set = sum(train_set, [])\n",
    "\t\ttest_set = list()\n",
    "\t\tfor row in fold:\n",
    "\t\t\trow_copy = list(row)\n",
    "\t\t\ttest_set.append(row_copy)\n",
    "\t\t\trow_copy[-1] = None\n",
    "\t\tpredicted = algorithm(train_set, test_set, *args)\n",
    "\t\tactual = [row[-1] for row in fold]\n",
    "\t\taccuracy = accuracy_metric(actual, predicted)\n",
    "\t\tscores.append(accuracy)\n",
    "\treturn scores\n",
    "\n",
    "# Predict the class for a given row\n",
    "def predict(summaries, row):\n",
    "\tprobabilities = calculate_class_probabilities(summaries, row)\n",
    "\tbest_label, best_prob = None, -1\n",
    "\tfor class_value, probability in probabilities.items():\n",
    "\t\tif best_label is None or probability > best_prob:\n",
    "\t\t\tbest_prob = probability\n",
    "\t\t\tbest_label = class_value\n",
    "\treturn best_label\n",
    "\n",
    "# Naive Bayes Algorithm\n",
    "def naive_bayes(train, test):\n",
    "\tsummarize = summarize_by_class(train)\n",
    "\tpredictions = list()\n",
    "\tfor row in test:\n",
    "\t\toutput = predict(summarize, row)\n",
    "\t\tpredictions.append(output)\n",
    "\treturn(predictions)\n",
    "\n",
    "# Test Naive Bayes on Iris Dataset\n",
    "seed(1)\n",
    "\n",
    "# evaluate algorithm\n",
    "n_folds = 5\n",
    "scores = evaluate_algorithm(iris_data, naive_bayes, n_folds)\n",
    "print('Scores: %s' % scores)\n",
    "print('Mean Accuracy: %.3f%%' % (sum(scores)/float(len(scores))))"
   ]
  }
 ],
 "metadata": {
  "kernelspec": {
   "display_name": "py380",
   "language": "python",
   "name": "python3"
  },
  "language_info": {
   "codemirror_mode": {
    "name": "ipython",
    "version": 3
   },
   "file_extension": ".py",
   "mimetype": "text/x-python",
   "name": "python",
   "nbconvert_exporter": "python",
   "pygments_lexer": "ipython3",
   "version": "3.8.18"
  }
 },
 "nbformat": 4,
 "nbformat_minor": 2
}
