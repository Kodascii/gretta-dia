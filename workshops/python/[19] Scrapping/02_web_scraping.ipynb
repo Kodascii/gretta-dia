{
 "cells": [
  {
   "cell_type": "markdown",
   "metadata": {},
   "source": [
    "# Web Scraping (BeautifulSoup)"
   ]
  },
  {
   "cell_type": "code",
   "execution_count": 1,
   "metadata": {},
   "outputs": [],
   "source": [
    "from bs4 import BeautifulSoup\n",
    "import requests\n",
    "import re"
   ]
  },
  {
   "cell_type": "markdown",
   "metadata": {},
   "source": [
    "### Scapping Python Docs"
   ]
  },
  {
   "cell_type": "code",
   "execution_count": 2,
   "metadata": {},
   "outputs": [],
   "source": [
    "def text2md(text:str) -> str:\n",
    "    text = text.replace('\\n', ' ').strip()\n",
    "    text = re.sub(r'(\\s)+', r'\\1', text)\n",
    "    text = re.sub(r'(<|>)', r'\\\\\\1', text)\n",
    "    text = re.sub(r'(?<!`)\\*(?<!`)', r'\\\\*', text)\n",
    "    text = re.sub(r'(?<!`)\\$(?<!`)', r'\\\\$', text)\n",
    "\n",
    "    return text"
   ]
  },
  {
   "cell_type": "code",
   "execution_count": 3,
   "metadata": {},
   "outputs": [],
   "source": [
    "url = 'https://docs.python.org/3/library/re.html'\n",
    "response = requests.get(url)\n",
    "\n",
    "if response.status_code == 200:\n",
    "    soup = BeautifulSoup(response.content, 'html.parser')\n",
    "    section = soup.find('section', id='regular-expression-syntax')\n",
    "\n",
    "    with open('./res/scrapped.md', 'w+') as f:\n",
    "        if section is not None:\n",
    "            dls = section.find_all('dl')\n",
    "            if dls is not None:\n",
    "                for x in dls:\n",
    "                    dt = text2md(x.find('dt').text)\n",
    "                    dd = text2md(x.find('dd').text)\n",
    "\n",
    "                    f.write(f'- `{dt}` : *{dd}*\\n')\n",
    "        else:\n",
    "            print('The page has no such data.')\n",
    "else:\n",
    "    print('Error fetching website contents')"
   ]
  }
 ],
 "metadata": {
  "kernelspec": {
   "display_name": "py312",
   "language": "python",
   "name": "python3"
  },
  "language_info": {
   "codemirror_mode": {
    "name": "ipython",
    "version": 3
   },
   "file_extension": ".py",
   "mimetype": "text/x-python",
   "name": "python",
   "nbconvert_exporter": "python",
   "pygments_lexer": "ipython3",
   "version": "3.12.2"
  }
 },
 "nbformat": 4,
 "nbformat_minor": 2
}
