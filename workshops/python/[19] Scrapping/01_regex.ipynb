{
 "cells": [
  {
   "cell_type": "markdown",
   "metadata": {},
   "source": [
    "# RegEx\n",
    "\n",
    "1. [Compile](#01-recompilepattern-flags0)\n",
    "1. [Match](#02-rematchpattern-string-flags0)\n",
    "1. [Search](#03-researchpattern-string-flags0)\n",
    "1. [Find All](#04-refindallpattern-string-flags0)\n",
    "1. [Find Interator](#05-refinditerpattern-string-flags0)\n",
    "1. [Replace](#06-resubpattern-repl-string-flags0)\n",
    "1. [Split](#07-resplitpattern-string-flags0)\n",
    "1. [Full Match](#08-refullmatchpattern-string-flags0)"
   ]
  },
  {
   "cell_type": "code",
   "execution_count": 1,
   "metadata": {},
   "outputs": [],
   "source": [
    "import re\n",
    "from typing import Pattern, Match"
   ]
  },
  {
   "cell_type": "markdown",
   "metadata": {},
   "source": [
    "### 01. [`re.compile(pattern, flags=0)`](https://docs.python.org/3/library/re.html#re.compile)"
   ]
  },
  {
   "cell_type": "code",
   "execution_count": 2,
   "metadata": {},
   "outputs": [],
   "source": [
    "num_pattern = r'\\(\\+\\d{2}\\)? (?:\\d{2,3}[ -]?){3}'\n",
    "num_rex = re.compile(num_pattern)\n",
    "\n",
    "date_pattern = r'(\\d{4})-(\\d{2})-(\\d{2}) (\\d{2}):(\\d{2}):(\\d{2})'\n",
    "date_rex = re.compile(date_pattern)\n",
    "\n",
    "num_data = \"\"\"\n",
    "    (+33) 748 45 13\n",
    "    (+33) 748-45-14\n",
    "    (+33) 7484515\n",
    "\"\"\"\n",
    "\n",
    "date_data = \"\"\"\n",
    "    2017-07-23 04:21:01.0000-00-000\n",
    "    2018-28-30 20:15:00\n",
    "\"\"\""
   ]
  },
  {
   "cell_type": "markdown",
   "metadata": {},
   "source": [
    "### 02. [`re.match(pattern, string, flags=0)`](https://docs.python.org/3/library/re.html#re.match)"
   ]
  },
  {
   "cell_type": "code",
   "execution_count": 3,
   "metadata": {},
   "outputs": [
    {
     "name": "stdout",
     "output_type": "stream",
     "text": [
      "==> num_result: (+33) 748 45 13\n",
      "==> date_result: 2017-07-23 04:21:01\n"
     ]
    }
   ],
   "source": [
    "result1 = num_rex.match(num_data.strip())\n",
    "result2 = date_rex.match(date_data.strip())\n",
    "\n",
    "if result1 is not None:\n",
    "    print(f'==> num_result: {result1.group()}') \n",
    "if result2 is not None:\n",
    "    print(f'==> date_result: {result2.group()}')"
   ]
  },
  {
   "cell_type": "markdown",
   "metadata": {},
   "source": [
    "### 03. [`re.search(pattern, string, flags=0)`](https://docs.python.org/3/library/re.html#re.search)"
   ]
  },
  {
   "cell_type": "code",
   "execution_count": 4,
   "metadata": {},
   "outputs": [
    {
     "name": "stdout",
     "output_type": "stream",
     "text": [
      "==> num_result: (+33) 748 45 13\n",
      "==> date_result: 2017-07-23 04:21:01\n"
     ]
    }
   ],
   "source": [
    "result1 = num_rex.search(num_data)\n",
    "result2 = date_rex.search(date_data)\n",
    "\n",
    "if result1 is not None:\n",
    "    print(f'==> num_result: {result1.group()}') \n",
    "if result2 is not None:\n",
    "    print(f'==> date_result: {result2.group()}')"
   ]
  },
  {
   "cell_type": "markdown",
   "metadata": {},
   "source": [
    "### 04. [`re.findall(pattern, string, flags=0)`](https://docs.python.org/3/library/re.html#re.findall)"
   ]
  },
  {
   "cell_type": "code",
   "execution_count": 5,
   "metadata": {},
   "outputs": [
    {
     "name": "stdout",
     "output_type": "stream",
     "text": [
      "==> result: ['(+33) 748 45 13', '(+33) 748-45-14', '(+33) 7484515']\n"
     ]
    }
   ],
   "source": [
    "result:list[str] = re.findall(num_rex, num_data)\n",
    "\n",
    "print(f'==> result: {result}')"
   ]
  },
  {
   "cell_type": "markdown",
   "metadata": {},
   "source": [
    "### 05. [`re.finditer(pattern, string, flags=0)`](https://docs.python.org/3/library/re.html#re.finditer)"
   ]
  },
  {
   "cell_type": "code",
   "execution_count": 6,
   "metadata": {},
   "outputs": [
    {
     "name": "stdout",
     "output_type": "stream",
     "text": [
      "==> num_result: ['(+33) 748 45 13', '(+33) 748-45-14', '(+33) 7484515']\n",
      "==> date_result: ['2017-07-23 04:21:01', '2018-28-30 20:15:00']\n"
     ]
    }
   ],
   "source": [
    "result1 = num_rex.finditer(num_data)\n",
    "result2 = date_rex.finditer(date_data)\n",
    "\n",
    "print(f'==> num_result: {[ v.group() for v in result1 ]}')\n",
    "print(f'==> date_result: {[ v.group() for v in result2 ]}')"
   ]
  },
  {
   "cell_type": "markdown",
   "metadata": {},
   "source": [
    "### 06. [`re.sub(pattern, repl, string, flags=0)`](https://docs.python.org/3/library/re.html#re.sub)"
   ]
  },
  {
   "cell_type": "code",
   "execution_count": 7,
   "metadata": {},
   "outputs": [
    {
     "name": "stdout",
     "output_type": "stream",
     "text": [
      "==> result: 2018/28/30\n"
     ]
    }
   ],
   "source": [
    "date_line = \"2018-28-30 20:15:00\"\n",
    "repl = r'\\1/\\2/\\3'\n",
    "\n",
    "print(f'==> result: {re.sub(date_rex, repl, date_line)}')"
   ]
  },
  {
   "cell_type": "markdown",
   "metadata": {},
   "source": [
    "### 07. [`re.split(pattern, string, flags=0)`](https://docs.python.org/3/library/re.html#re.split)"
   ]
  },
  {
   "cell_type": "code",
   "execution_count": 8,
   "metadata": {},
   "outputs": [
    {
     "name": "stdout",
     "output_type": "stream",
     "text": [
      "==> split_by[-]: ['2018', '28', '30 20:15:00']\n",
      "==> split_by[\\s+]: ['', 'Hello', 'World!', 'Here', 'is', 'some', 'extra', 'TEXT.', '']\n",
      "==> split_by[\\w+]: ['Hello', 'World', 'Here', 'is', 'some', 'extra', 'TEXT', '']\n"
     ]
    }
   ],
   "source": [
    "print(f'==> split_by[-]: {re.split(r'-', \"2018-28-30 20:15:00\")}')\n",
    "print(f'==> split_by[\\\\s+]: {re.split(r'\\s+', '  Hello   World!    Here is some extra TEXT.  ')}')\n",
    "print(f'==> split_by[\\\\w+]: {re.split(r'\\W+', 'Hello World! Here is some extra TEXT.', flags=re.IGNORECASE)}')"
   ]
  },
  {
   "cell_type": "markdown",
   "metadata": {},
   "source": [
    "### 08. [`re.fullmatch(pattern, string, flags=0)`](https://docs.python.org/3/library/re.html#re.fullmatch)"
   ]
  },
  {
   "cell_type": "code",
   "execution_count": 9,
   "metadata": {},
   "outputs": [
    {
     "name": "stdout",
     "output_type": "stream",
     "text": [
      "==> num_result: (+33) 748 45 13\n"
     ]
    }
   ],
   "source": [
    "num_line = \"(+33) 748 45 13\"\n",
    "date_line = \" 2018-28-30 20:15:00\"\n",
    "\n",
    "result1 = num_rex.fullmatch(num_line)\n",
    "result2 = date_rex.fullmatch(date_line)\n",
    "\n",
    "if result1 is not None:\n",
    "    print(f'==> num_result: {result1.group()}') \n",
    "if result2 is not None:\n",
    "    print(f'==> date_result: {result2.group()}')"
   ]
  },
  {
   "cell_type": "markdown",
   "metadata": {},
   "source": [
    "# /TESTS/"
   ]
  }
 ],
 "metadata": {
  "kernelspec": {
   "display_name": "py312",
   "language": "python",
   "name": "python3"
  },
  "language_info": {
   "codemirror_mode": {
    "name": "ipython",
    "version": 3
   },
   "file_extension": ".py",
   "mimetype": "text/x-python",
   "name": "python",
   "nbconvert_exporter": "python",
   "pygments_lexer": "ipython3",
   "version": "3.12.2"
  }
 },
 "nbformat": 4,
 "nbformat_minor": 2
}
