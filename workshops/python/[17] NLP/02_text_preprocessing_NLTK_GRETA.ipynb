{
 "cells": [
  {
   "cell_type": "markdown",
   "id": "eccf7b97",
   "metadata": {},
   "source": [
    "# Text Preprocessing\n",
    "\n",
    "Dans toute tâche d'apprentissage automatique, le nettoyage ou le prétraitement des données est aussi important que la construction du modèle. Les données textuelles sont l'une des formes les moins structurées de données disponibles et lorsqu'il s'agit de traiter le langage humain, c'est trop complexe. \n",
    "Dans ce Brief nous allons travailler sur le prétraitement des données textuelles en utilisant [NLTK](http://www.nltk.org)."
   ]
  },
  {
   "cell_type": "markdown",
   "id": "d20d29f9",
   "metadata": {},
   "source": [
    "## Veille technologique: Natural Language Processing (NLP)\n",
    "1- Les cas d'utlisation de NLP dans notre vie  \n",
    "2- Comment Fecebook, Google et Amazon utilisent NLP  \n",
    "3- Préparation des données textuelles  "
   ]
  },
  {
   "cell_type": "markdown",
   "id": "df871de1",
   "metadata": {},
   "source": [
    "## Setup\n"
   ]
  },
  {
   "cell_type": "code",
   "execution_count": 1,
   "id": "14aecb16",
   "metadata": {},
   "outputs": [],
   "source": [
    "#Importer les bibliothèques nécessaires\n",
    "import nltk"
   ]
  },
  {
   "cell_type": "code",
   "execution_count": 2,
   "id": "f49b7e37",
   "metadata": {},
   "outputs": [
    {
     "name": "stderr",
     "output_type": "stream",
     "text": [
      "[nltk_data] Downloading package punkt to /home/kodascii/nltk_data...\n",
      "[nltk_data]   Package punkt is already up-to-date!\n",
      "[nltk_data] Downloading package stopwords to\n",
      "[nltk_data]     /home/kodascii/nltk_data...\n",
      "[nltk_data]   Package stopwords is already up-to-date!\n"
     ]
    },
    {
     "data": {
      "text/plain": [
       "True"
      ]
     },
     "execution_count": 2,
     "metadata": {},
     "output_type": "execute_result"
    }
   ],
   "source": [
    "#Télécharger les données NLTK \n",
    "nltk.download('punkt')\n",
    "nltk.download('stopwords')"
   ]
  },
  {
   "cell_type": "markdown",
   "id": "7c79a5cf",
   "metadata": {},
   "source": [
    "## Netoyage des données\n",
    "\n",
    "Dans cette partie nous allons utiliser [NLTK](http://www.nltk.org) pour nétoyer un texte de [wikipidéa](https://en.wikipedia.org/wiki/Natural_language_processing) sur la définition du NLP  \n",
    "\"Natural language processing (NLP) is a subfield of linguistics, computer science, and artificial intelligence concerned with the interactions between computers and human language, in particular how to program computers to process and analyze large amounts of natural language data. The goal is a computer capable of \"understanding\" the contents of documents, including the contextual nuances of the language within them. The technology can then accurately extract information and insights contained in the documents as well as categorize and organize the documents themselves.\""
   ]
  },
  {
   "cell_type": "code",
   "execution_count": 3,
   "id": "0a6bf760",
   "metadata": {},
   "outputs": [
    {
     "name": "stdout",
     "output_type": "stream",
     "text": [
      "==>> text: natural language processing (nlp) is a subfield of linguistics, computer science, and artificial intelligence concerned with the interactions between computers and human language, in particular how to program computers to process and analyze large amounts of natural language data. the goal is a computer capable of \"understanding\" the contents of documents, including the contextual nuances of the language within them. the technology can then accurately extract information and insights contained in the documents as well as categorize and organize the documents themselves.\n"
     ]
    }
   ],
   "source": [
    "#Lowercase: Mettre tout le texte en minuscule\n",
    "text = 'Natural language processing (NLP) is a subfield of linguistics, computer science, and artificial intelligence concerned with the interactions between computers and human language, in particular how to program computers to process and analyze large amounts of natural language data. The goal is a computer capable of \"understanding\" the contents of documents, including the contextual nuances of the language within them. The technology can then accurately extract information and insights contained in the documents as well as categorize and organize the documents themselves.'\n",
    "text = text.lower()\n",
    "\n",
    "print(f\"==>> text: {text}\")"
   ]
  },
  {
   "cell_type": "code",
   "execution_count": 4,
   "id": "463e7d54",
   "metadata": {},
   "outputs": [
    {
     "name": "stdout",
     "output_type": "stream",
     "text": [
      "==>> text: natural language processing nlp is a subfield of linguistics computer science and artificial intelligence concerned with the interactions between computers and human language in particular how to program computers to process and analyze large amounts of natural language data the goal is a computer capable of understanding the contents of documents including the contextual nuances of the language within them the technology can then accurately extract information and insights contained in the documents as well as categorize and organize the documents themselves\n"
     ]
    }
   ],
   "source": [
    "#Supprimer les punctuation\n",
    "import string\n",
    "punctuation = string.punctuation\n",
    "text = text.translate(str.maketrans('', '', punctuation))\n",
    "\n",
    "print(f\"==>> text: {text}\")"
   ]
  },
  {
   "cell_type": "markdown",
   "id": "d1e3cdd6",
   "metadata": {},
   "source": [
    "### Word Tokenization\n",
    "La tokénisation([Tokenize](https://www.nltk.org/api/nltk.tokenize.html#module-nltk.tokenize.casual)) consiste à diviser les chaînes de caractères en mots individuels sans blancs ni tabulations.\n"
   ]
  },
  {
   "cell_type": "code",
   "execution_count": 5,
   "id": "d4cf7be2",
   "metadata": {},
   "outputs": [
    {
     "name": "stdout",
     "output_type": "stream",
     "text": [
      "==>> tokens: ['natural', 'language', 'processing', 'nlp', 'is', 'a', 'subfield', 'of', 'linguistics', 'computer', 'science', 'and', 'artificial', 'intelligence', 'concerned', 'with', 'the', 'interactions', 'between', 'computers', 'and', 'human', 'language', 'in', 'particular', 'how', 'to', 'program', 'computers', 'to', 'process', 'and', 'analyze', 'large', 'amounts', 'of', 'natural', 'language', 'data', 'the', 'goal', 'is', 'a', 'computer', 'capable', 'of', 'understanding', 'the', 'contents', 'of', 'documents', 'including', 'the', 'contextual', 'nuances', 'of', 'the', 'language', 'within', 'them', 'the', 'technology', 'can', 'then', 'accurately', 'extract', 'information', 'and', 'insights', 'contained', 'in', 'the', 'documents', 'as', 'well', 'as', 'categorize', 'and', 'organize', 'the', 'documents', 'themselves']\n",
      "==>> len(tokens): 82\n"
     ]
    }
   ],
   "source": [
    "from nltk import word_tokenize\n",
    "\n",
    "tokens = nltk.word_tokenize(text)\n",
    "print(f\"==>> tokens: { tokens }\")\n",
    "print(f\"==>> len(tokens): { len(tokens) }\")"
   ]
  },
  {
   "cell_type": "markdown",
   "id": "3ec18ba3",
   "metadata": {},
   "source": [
    "### Stopwords\n",
    "Les mots d'arrêt sont des mots qui n'ajoutent pas de sens significatif au texte. Utiliser NLTK pour lister les stop words et les supprimer du textes."
   ]
  },
  {
   "cell_type": "code",
   "execution_count": 6,
   "id": "ad98be4a",
   "metadata": {},
   "outputs": [
    {
     "name": "stdout",
     "output_type": "stream",
     "text": [
      "==>> words: ['natural', 'language', 'processing', 'nlp', 'is', 'a', 'subfield', 'of', 'linguistics', 'computer', 'science', 'and', 'artificial', 'intelligence', 'concerned', 'with', 'the', 'interactions', 'between', 'computers', 'and', 'human', 'language', 'in', 'particular', 'how', 'to', 'program', 'computers', 'to', 'process', 'and', 'analyze', 'large', 'amounts', 'of', 'natural', 'language', 'data', 'the', 'goal', 'is', 'a', 'computer', 'capable', 'of', 'understanding', 'the', 'contents', 'of', 'documents', 'including', 'the', 'contextual', 'nuances', 'of', 'the', 'language', 'within', 'them', 'the', 'technology', 'can', 'then', 'accurately', 'extract', 'information', 'and', 'insights', 'contained', 'in', 'the', 'documents', 'well', 'categorize', 'and', 'organize', 'the', 'documents', 'themselves']\n",
      "==>> len(words): 80\n",
      "\n",
      "number of removed stop words: 2\n"
     ]
    }
   ],
   "source": [
    "from nltk.corpus import stopwords\n",
    "\n",
    "# Récupérer les stopwords\n",
    "stop_words = set(stopwords.words('french'))\n",
    "# Supprimer les stopwords\n",
    "words = [ w for w in tokens if not w in stop_words ]\n",
    "\n",
    "print(f\"==>> words: { words }\")\n",
    "print(f\"==>> len(words): { len(words) }\")\n",
    "\n",
    "print(f\"\\nnumber of removed stop words: {len(tokens) - len(words)}\")"
   ]
  },
  {
   "cell_type": "markdown",
   "id": "25588009",
   "metadata": {},
   "source": [
    "### Stemming\n",
    "L'étymologie est le processus qui consiste à réduire les mots à leur racine, leur base ou leur forme ([Stemming](https://en.wikipedia.org/wiki/Stemming) )."
   ]
  },
  {
   "cell_type": "code",
   "execution_count": 7,
   "id": "0ce47387",
   "metadata": {},
   "outputs": [
    {
     "name": "stdout",
     "output_type": "stream",
     "text": [
      "==>> stemmed: ['natur', 'languag', 'process', 'nlp', 'is', 'a', 'subfield', 'of', 'linguist', 'comput', 'scienc', 'and', 'artifici', 'intellig', 'concern', 'with', 'the', 'interact', 'between', 'comput', 'and', 'human', 'languag', 'in', 'particular', 'how', 'to', 'program', 'comput', 'to', 'process', 'and', 'analyz', 'larg', 'amount', 'of', 'natur', 'languag', 'data', 'the', 'goal', 'is', 'a', 'comput', 'capabl', 'of', 'understand', 'the', 'content', 'of', 'document', 'includ', 'the', 'contextu', 'nuanc', 'of', 'the', 'languag', 'within', 'them', 'the', 'technolog', 'can', 'then', 'accur', 'extract', 'inform', 'and', 'insight', 'contain', 'in', 'the', 'document', 'well', 'categor', 'and', 'organ', 'the', 'document', 'themselv']\n"
     ]
    }
   ],
   "source": [
    "from nltk.stem.porter import PorterStemmer\n",
    "\n",
    "stemmer = PorterStemmer()\n",
    "stemmed = [stemmer.stem(word) for word in words]\n",
    "\n",
    "print(f\"==>> stemmed: {stemmed}\")"
   ]
  },
  {
   "cell_type": "markdown",
   "id": "d5418434",
   "metadata": {},
   "source": [
    "## Développement des fonctions\n",
    "\n",
    "Développer chaque étape du prétraitement du text dans une fonction"
   ]
  },
  {
   "cell_type": "code",
   "execution_count": 8,
   "id": "ca52186f",
   "metadata": {},
   "outputs": [],
   "source": [
    "# Lowercase: Mettre tout le texte en minuscule\n",
    "def proc_lowercase(text):\n",
    "    return text.lower()\n",
    "\n",
    "# Supprimer les punctuation\n",
    "def proc_punctuations(text):\n",
    "    return text.translate(str.maketrans('', '', string.punctuation))\n",
    "\n",
    "# Tokenization\n",
    "def proc_tokenisation(text):\n",
    "    return nltk.word_tokenize(text)\n",
    "\n",
    "# Stopwords\n",
    "def proc_stopwords(tokens):\n",
    "    stop_words = set(stopwords.words('french'))\n",
    "    return [ w for w in tokens if not w in stop_words ]\n",
    "\n",
    "# Stemming\n",
    "def proc_stemming(words):\n",
    "    stemmer = PorterStemmer()\n",
    "    return [stemmer.stem(word) for word in words]\n",
    "\n",
    "# From text to tokens\n",
    "def proc_text2tokens(text):\n",
    "    processed = proc_lowercase(text)\n",
    "    processed = proc_punctuations(processed)\n",
    "    processed = proc_tokenisation(processed)\n",
    "    processed = proc_stopwords(processed)\n",
    "    processed = proc_stemming(processed)\n",
    "    return processed"
   ]
  },
  {
   "cell_type": "markdown",
   "id": "a3610110",
   "metadata": {},
   "source": [
    "# What about Twitter messages !! :)\n",
    "\n",
    "Dans cette partie nous allons appliquer les étapes de prétraitement de texte sur une base de données des messages Twitters "
   ]
  },
  {
   "cell_type": "code",
   "execution_count": 9,
   "id": "4c886a45",
   "metadata": {},
   "outputs": [],
   "source": [
    "import nltk                                # Python library for NLP\n",
    "from nltk.corpus import twitter_samples    # sample Twitter dataset from NLTK\n",
    "import matplotlib.pyplot as plt            # library for visualization\n",
    "import random                              # pseudo-random number generator"
   ]
  },
  {
   "cell_type": "code",
   "execution_count": 10,
   "id": "3d270188",
   "metadata": {},
   "outputs": [
    {
     "name": "stderr",
     "output_type": "stream",
     "text": [
      "[nltk_data] Downloading package twitter_samples to\n",
      "[nltk_data]     /home/kodascii/nltk_data...\n",
      "[nltk_data]   Package twitter_samples is already up-to-date!\n"
     ]
    },
    {
     "data": {
      "text/plain": [
       "True"
      ]
     },
     "execution_count": 10,
     "metadata": {},
     "output_type": "execute_result"
    }
   ],
   "source": [
    "nltk.download('twitter_samples')"
   ]
  },
  {
   "cell_type": "code",
   "execution_count": 11,
   "id": "979b2607",
   "metadata": {},
   "outputs": [],
   "source": [
    "# select the set of positive and negative tweets\n",
    "all_positive_tweets = twitter_samples.strings('positive_tweets.json')\n",
    "all_negative_tweets = twitter_samples.strings('negative_tweets.json')"
   ]
  },
  {
   "cell_type": "code",
   "execution_count": 15,
   "id": "061ed30c",
   "metadata": {},
   "outputs": [
    {
     "name": "stdout",
     "output_type": "stream",
     "text": [
      "\u001b[92mI have to go now guys.\n",
      "Hope you enjoyed the updates :)\n",
      "Bye\n",
      "[Admin LuKris]\n",
      "\u001b[91mDont know why I try anymore. Getting tired of this. :(\n",
      "\n",
      "\u001b[92m==>> pos_tokens: ['i', 'have', 'to', 'go', 'now', 'guy', 'hope', 'you', 'enjoy', 'the', 'updat', 'bye', 'admin', 'lukri']\n",
      "\u001b[91m==>> neg_tokens: ['dont', 'know', 'whi', 'i', 'tri', 'anymor', 'get', 'tire', 'of', 'thi']\n"
     ]
    }
   ],
   "source": [
    "tweet_num = random.randint(0,5000)\n",
    "\n",
    "#print positive in greeen\n",
    "print('\\033[92m' + all_positive_tweets[tweet_num])\n",
    "# print negative in red\n",
    "print('\\033[91m' + all_negative_tweets[tweet_num])\n",
    "\n",
    "# text pre-processing\n",
    "print()\n",
    "pos_tokens = proc_text2tokens(all_positive_tweets[tweet_num])\n",
    "neg_tokens = proc_text2tokens(all_negative_tweets[tweet_num])\n",
    "\n",
    "print(f\"\\033[92m==>> pos_tokens: {pos_tokens}\")\n",
    "print(f\"\\033[91m==>> neg_tokens: {neg_tokens}\")"
   ]
  }
 ],
 "metadata": {
  "kernelspec": {
   "display_name": "Python 3 (ipykernel)",
   "language": "python",
   "name": "python3"
  },
  "language_info": {
   "codemirror_mode": {
    "name": "ipython",
    "version": 3
   },
   "file_extension": ".py",
   "mimetype": "text/x-python",
   "name": "python",
   "nbconvert_exporter": "python",
   "pygments_lexer": "ipython3",
   "version": "3.12.2"
  }
 },
 "nbformat": 4,
 "nbformat_minor": 5
}
