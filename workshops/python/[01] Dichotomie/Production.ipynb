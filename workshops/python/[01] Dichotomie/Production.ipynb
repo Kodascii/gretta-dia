{
 "cells": [
  {
   "cell_type": "markdown",
   "metadata": {},
   "source": [
    "# Workshop 01 - Python : Recherche par Dichotomie"
   ]
  },
  {
   "cell_type": "markdown",
   "metadata": {},
   "source": [
    "<link rel=\"stylesheet\" href=\"../stylesheet.css\"/>\n",
    "\n",
    "<p class=\"section\"My Work</p>"
   ]
  },
  {
   "cell_type": "markdown",
   "metadata": {},
   "source": [
    "<p style=\"color:#2196F3; font-weight: 500; font-size:20px;\">STEP 1</p>\n",
    "\n",
    "- On définie la fonction `main` en tant que la fonction principale du programme.\n",
    "- L'instruction `if __name__ == \"__main__\": main()` déclenche l’exécution de la logique principale."
   ]
  },
  {
   "cell_type": "code",
   "execution_count": null,
   "metadata": {},
   "outputs": [],
   "source": [
    "def main():\n",
    "    print(\"Bienvenue dans le jeu de la dichotomie !\")\n",
    "\n",
    "if __name__ == \"__main__\":\n",
    "    main()"
   ]
  },
  {
   "cell_type": "markdown",
   "metadata": {},
   "source": [
    "<p style=\"color:#2196F3; font-weight: 500; font-size:20px;\">STEP 2</p>\n",
    "\n",
    "- On récupère le nom du joueur via la méthode `input(str)`."
   ]
  },
  {
   "cell_type": "code",
   "execution_count": null,
   "metadata": {},
   "outputs": [],
   "source": [
    "def main():\n",
    "    print(\"Bienvenue dans le jeu de la dichotomie !\")\n",
    "    userName = input(\"Nom du joueur: \") # Nom d'utilisateur\n",
    "\n",
    "if __name__ == \"__main__\":\n",
    "    main()"
   ]
  },
  {
   "cell_type": "markdown",
   "metadata": {},
   "source": [
    "<p style=\"color:#2196F3; font-weight: 500; font-size:20px;\">STEP 3</p>\n",
    "\n",
    "- **`minValue`/`maxValue` :** Nous avons besoin de stocker le nombre minimum et le maximum dans deux variables différentes car nous nous en servons, pour réduire l'intervalle de recherche durant la dichotomie.\n",
    "\n",
    "> **Note :** *La valeur de la variable* `maxValue` *est initialisé à* `101`. *Cela permet d'inclure le nombre* `100` *dans la portée de l'intervalle cherché.*"
   ]
  },
  {
   "cell_type": "code",
   "execution_count": null,
   "metadata": {},
   "outputs": [],
   "source": [
    "def main():\n",
    "    print(\"Bienvenue dans le jeu de la dichotomie !\")\n",
    "    userName = input(\"Nom du joueur: \")\n",
    "\n",
    "    minValue, maxValue = 0, 101\n",
    "\n",
    "if __name__ == \"__main__\":\n",
    "    main()"
   ]
  },
  {
   "cell_type": "markdown",
   "metadata": {},
   "source": [
    "<p style=\"color:#2196F3; font-weight: 500; font-size:20px;\">STEP 4</p>\n",
    "\n",
    "- **`found` :** Variable qui représente la valeur (dichotomique) trouvé (*initialement égale à `0`*).\n",
    "- **`reply` :** Décrit symboliquement (*par* `+`/`-`/`=`) si le nombre proposé est respectivement plus grand, plus petit ou égal au nombre cherché."
   ]
  },
  {
   "cell_type": "code",
   "execution_count": null,
   "metadata": {},
   "outputs": [],
   "source": [
    "def main():\n",
    "    print(\"Bienvenue dans le jeu de la dichotomie !\")\n",
    "    userName = input(\"Nom du joueur: \")\n",
    "\n",
    "    minValue, maxValue = 0, 101\n",
    "    found, reply = 0, None\n",
    "\n",
    "    while (reply != '='):\n",
    "        if (reply == '+'):\n",
    "            minValue = found\n",
    "        elif (reply == '-'):\n",
    "            maxValue = found\n",
    "\n",
    "        found = int((maxValue + minValue)/2)\n",
    "        reply = input(f'Le nombre est-il plus petit, plus grand, ou égal à {found}?')\n",
    "\n",
    "if __name__ == \"__main__\":\n",
    "    main()"
   ]
  },
  {
   "cell_type": "markdown",
   "metadata": {},
   "source": [
    "<p style=\"color:#2196F3; font-weight: 500; font-size:20px;\">STEP 5</p>\n",
    "\n",
    "- **`q_counter` :** Compte le nombre de questions posées."
   ]
  },
  {
   "cell_type": "code",
   "execution_count": 4,
   "metadata": {},
   "outputs": [
    {
     "name": "stdout",
     "output_type": "stream",
     "text": [
      "Bienvenue dans le jeu de la dichotomie !\n",
      "Le nombre cherché de k est 793.\n",
      "Le programme a posé 10 questions.\n"
     ]
    }
   ],
   "source": [
    "def main():\n",
    "    print(\"Bienvenue dans le jeu de la dichotomie !\")\n",
    "    userName = input(\"Nom du joueur: \")\n",
    "    \n",
    "    minValue, maxValue = 0, 1001\n",
    "    found, reply = 0, None\n",
    "    q_counter = 0\n",
    "\n",
    "    while (reply != '='):\n",
    "        if (reply == '+'):\n",
    "            minValue = found\n",
    "        elif (reply == '-'):\n",
    "            maxValue = found\n",
    "\n",
    "        found = int((maxValue + minValue)/2)\n",
    "        reply = input(f'Le nombre est-il plus petit, plus grand, ou égal à {found}?')\n",
    "        q_counter += 1\n",
    "\n",
    "    print(f'Le nombre cherché de {userName} est {found}.')\n",
    "    print(f'Le programme a posé {q_counter} {\"question\" if q_counter == 1 else \"questions\"}.')\n",
    "\n",
    "if __name__ == \"__main__\":\n",
    "    main()"
   ]
  },
  {
   "cell_type": "code",
   "execution_count": 3,
   "metadata": {},
   "outputs": [
    {
     "name": "stdout",
     "output_type": "stream",
     "text": [
      "Bienvenue au jeu de devinettes !\n",
      "C'est plus !\n",
      "C'est plus !\n",
      "C'est moins !\n",
      "C'est moins !\n",
      "C'est moins !\n",
      "C'est moins !\n",
      "C'est plus !\n",
      "C'est moins !\n",
      "C'est moins !\n",
      "C'est moins !\n",
      "Félicitations ! Vous avez trouvé le nombre en 11 essais.\n"
     ]
    }
   ],
   "source": [
    "import random\n",
    "\n",
    "def user_game():\n",
    "    # Laissez l'utilisateur choisir la plage de nombres\n",
    "    min_val, max_val = None, None\n",
    "    while min_val is None or max_val is None or min_val >= max_val:\n",
    "        try:\n",
    "            min_val = int(input(\"Entrez la valeur minimale : \"))\n",
    "            max_val = int(input(\"Entrez la valeur maximale : \"))\n",
    "            if min_val >= max_val:\n",
    "                print(\"Erreur: La valeur minimale doit être inférieure à la valeur maximale.\")\n",
    "        except ValueError:\n",
    "            print(\"Veuillez entrer des nombres valides.\")\n",
    "\n",
    "    # Génération aléatoire du nombre à deviner\n",
    "    nombre_secret = random.randint(min_val, max_val)\n",
    "    nombre_essais = 0\n",
    "    essai = None\n",
    "    while essai != nombre_secret:\n",
    "        try:\n",
    "            essai = int(input(f\"Devinez le nombre entre {min_val} et {max_val} : \"))\n",
    "            nombre_essais += 1\n",
    "\n",
    "            if essai < nombre_secret:\n",
    "                print(\"C'est plus !\")\n",
    "            elif essai > nombre_secret:\n",
    "                print(\"C'est moins !\")\n",
    "        except ValueError:\n",
    "            print(\"Veuillez entrer un nombre valide.\")\n",
    "    \n",
    "    print(f\"Félicitations ! Vous avez trouvé le nombre en {nombre_essais} essais.\")\n",
    "\n",
    "def computer_game():\n",
    "    print(\"Bienvenue au jeu de devinettes, où l'ordinateur doit deviner votre nombre !\")\n",
    "    nom = input(\"Quel est votre nom ? \")\n",
    "    print(f\"Salut {nom} ! Pensez à un nombre.\")\n",
    "\n",
    "    min_val, max_val = None, None\n",
    "    while min_val is None or max_val is None or min_val > max_val:\n",
    "        try:\n",
    "            min_val = int(input(\"Saisissez la valeur minimale de votre intervalle : \"))\n",
    "            max_val = int(input(\"Saissisez la valeur maximale de votre intervalle : \"))\n",
    "            if min_val > max_val:\n",
    "                print(\"La valeur minimale doit être inférieure à la valeur maximale. Veuillez réessayer.\")\n",
    "        except ValueError:\n",
    "            print(\"Veuillez saisir des nombres valides.\")\n",
    "\n",
    "    compteur = 0\n",
    "    guess = None\n",
    "    while guess is None or reponse not in [\"oui\", \"=\"]:\n",
    "        compteur += 1\n",
    "        guess = (min_val + max_val) // 2\n",
    "        reponse = input(f\"Est-ce que votre nombre est {guess}? (oui/plus grand/>/+, moins/</plus petit - ou =): \").lower()\n",
    "\n",
    "        if reponse in [\"plus grand\", \">\", \"plus\", \"+\"]:\n",
    "            min_val = guess + 1\n",
    "        elif reponse in [\"moins\", \"<\", \"plus petit\", \"-\"]:\n",
    "            max_val = guess - 1\n",
    "\n",
    "    print(f\"J'ai deviné votre nombre! C'était {guess}, trouvé en {compteur} tentatives.\")\n",
    "\n",
    "def main():\n",
    "    print(\"Bienvenue au jeu de devinettes !\")\n",
    "    choix = None\n",
    "    while choix not in ['joueur', 'programme', 'quitter']:\n",
    "        choix = input(\"Qui doit deviner le nombre ? Tapez 'joueur', 'programme' ou 'quitter' pour sortir : \").lower()\n",
    "        if choix == 'joueur':\n",
    "            user_game()\n",
    "        elif choix == 'programme':\n",
    "            computer_game()\n",
    "        elif choix == 'quitter':\n",
    "            print(\"Au revoir !\")\n",
    "            break\n",
    "        else:\n",
    "            print(\"Choix non reconnu. Veuillez choisir entre 'joueur', 'programme' et 'quitter'.\")\n",
    "\n",
    "if __name__ == \"__main__\":\n",
    "    main()"
   ]
  }
 ],
 "metadata": {
  "kernelspec": {
   "display_name": "base",
   "language": "python",
   "name": "python3"
  },
  "language_info": {
   "codemirror_mode": {
    "name": "ipython",
    "version": 3
   },
   "file_extension": ".py",
   "mimetype": "text/x-python",
   "name": "python",
   "nbconvert_exporter": "python",
   "pygments_lexer": "ipython3",
   "version": "3.11.5"
  }
 },
 "nbformat": 4,
 "nbformat_minor": 2
}
